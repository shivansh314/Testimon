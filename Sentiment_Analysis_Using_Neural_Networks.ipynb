{
  "cells": [
    {
      "cell_type": "markdown",
      "id": "ce5e5784",
      "metadata": {
        "id": "ce5e5784"
      },
      "source": [
        "<a id='title'/>"
      ]
    },
    {
      "cell_type": "markdown",
      "id": "606ee317",
      "metadata": {
        "id": "606ee317"
      },
      "source": [
        "\n",
        "\n",
        "## Data Preparation<a id='part2'/>\n",
        "---"
      ]
    },
    {
      "cell_type": "markdown",
      "id": "ce54e946",
      "metadata": {
        "id": "ce54e946"
      },
      "source": [
        "### B1. Exploratory Data Analysis<a id='b1'/>\n",
        "---"
      ]
    },
    {
      "cell_type": "code",
      "execution_count": null,
      "id": "c87e6b7d",
      "metadata": {
        "id": "c87e6b7d"
      },
      "outputs": [],
      "source": [
        "# Import data\n",
        "df = pd.read_csv('Reviews.csv', engine='python', on_bad_lines='warn', quoting=3)"
      ]
    },
    {
      "cell_type": "code",
      "execution_count": null,
      "id": "8404f67a",
      "metadata": {
        "colab": {
          "base_uri": "https://localhost:8080/"
        },
        "id": "8404f67a",
        "outputId": "8e030ea2-cd39-48ff-ab1c-592c79c27dc4"
      },
      "outputs": [
        {
          "output_type": "stream",
          "name": "stdout",
          "text": [
            "<class 'pandas.core.frame.DataFrame'>\n",
            "RangeIndex: 4420 entries, 0 to 4419\n",
            "Data columns (total 10 columns):\n",
            " #   Column                  Non-Null Count  Dtype  \n",
            "---  ------                  --------------  -----  \n",
            " 0   Id                      4420 non-null   int64  \n",
            " 1   ProductId               4420 non-null   object \n",
            " 2   UserId                  4419 non-null   object \n",
            " 3   ProfileName             4418 non-null   object \n",
            " 4   HelpfulnessNumerator    4419 non-null   float64\n",
            " 5   HelpfulnessDenominator  4419 non-null   float64\n",
            " 6   Score                   4419 non-null   float64\n",
            " 7   Time                    4419 non-null   float64\n",
            " 8   Summary                 4419 non-null   object \n",
            " 9   Text                    4419 non-null   object \n",
            "dtypes: float64(4), int64(1), object(5)\n",
            "memory usage: 345.4+ KB\n"
          ]
        }
      ],
      "source": [
        "# Review data shape\n",
        "df.info()\n",
        "df = df.rename(columns={'Text': 'text'})\n",
        "df = df.rename(columns={'Score': 'rating'})"
      ]
    },
    {
      "cell_type": "code",
      "execution_count": null,
      "id": "5cc3005f",
      "metadata": {
        "id": "5cc3005f"
      },
      "outputs": [],
      "source": [
        "# Keep relevant columns\n",
        "df = df[['text', 'rating']]"
      ]
    },
    {
      "cell_type": "code",
      "execution_count": null,
      "id": "c5a9e239",
      "metadata": {
        "id": "c5a9e239"
      },
      "outputs": [],
      "source": [
        "# Remove observations with no text\n",
        "df = df.dropna(subset='text')"
      ]
    },
    {
      "cell_type": "code",
      "execution_count": null,
      "id": "9dc5e548",
      "metadata": {
        "colab": {
          "base_uri": "https://localhost:8080/"
        },
        "id": "9dc5e548",
        "outputId": "88d43c47-a109-4cf3-8f5a-b77dc281a052"
      },
      "outputs": [
        {
          "output_type": "stream",
          "name": "stdout",
          "text": [
            "<class 'pandas.core.frame.DataFrame'>\n",
            "Index: 4419 entries, 0 to 4418\n",
            "Data columns (total 2 columns):\n",
            " #   Column  Non-Null Count  Dtype  \n",
            "---  ------  --------------  -----  \n",
            " 0   text    4419 non-null   object \n",
            " 1   rating  4419 non-null   float64\n",
            "dtypes: float64(1), object(1)\n",
            "memory usage: 103.6+ KB\n"
          ]
        }
      ],
      "source": [
        "# Review data shape\n",
        "df.info()"
      ]
    },
    {
      "cell_type": "code",
      "execution_count": null,
      "id": "77274145",
      "metadata": {
        "id": "77274145"
      },
      "outputs": [],
      "source": [
        "# Remove numbers from text\n",
        "def remove_numbers(text):\n",
        "    return re.sub(r'\\d+', '', text)\n",
        "\n",
        "df['text'] = df['text'].apply(remove_numbers)"
      ]
    },
    {
      "cell_type": "code",
      "execution_count": null,
      "id": "acf5df6d",
      "metadata": {
        "id": "acf5df6d"
      },
      "outputs": [],
      "source": [
        "# Define function to identify unusual characters\n",
        "def has_unusual_chars(text):\n",
        "    # usual characters to ignore\n",
        "    if re.search(r'[^\\w\\s,.;:!?\\-]', text):\n",
        "        return True\n",
        "    else:\n",
        "        return False"
      ]
    },
    {
      "cell_type": "code",
      "execution_count": null,
      "id": "c8777c2b",
      "metadata": {
        "id": "c8777c2b"
      },
      "outputs": [],
      "source": [
        "# Create new column to identify observations with unusual characters\n",
        "df['unusual_chars'] = df['text'].apply(has_unusual_chars)"
      ]
    },
    {
      "cell_type": "code",
      "execution_count": null,
      "id": "8d9a863a",
      "metadata": {
        "colab": {
          "base_uri": "https://localhost:8080/",
          "height": 423
        },
        "id": "8d9a863a",
        "outputId": "8c5d9004-bce7-430d-f1c8-2b44404c6d46"
      },
      "outputs": [
        {
          "output_type": "execute_result",
          "data": {
            "text/plain": [
              "                                                   text  rating  unusual_chars\n",
              "1     \"Product arrived labeled as Jumbo Salted Peanu...     1.0           True\n",
              "2     If you are looking for the secret ingredient i...     2.0           True\n",
              "3     Right now I'm mostly just sprouting this so my...     5.0           True\n",
              "10    I can remember buying this candy as a kid and ...     5.0           True\n",
              "12    I was so glad Amazon carried these batteries. ...     4.0           True\n",
              "...                                                 ...     ...            ...\n",
              "4401  We came across this tea at PF Chang's China Bi...     5.0           True\n",
              "4402  If you enjoy a cup (or two) of awesome tea...l...     5.0           True\n",
              "4403  We enjoy hot tea and we find Revolution tea to...     5.0           True\n",
              "4405  \"Just regular breakfast coffee...a great way t...     5.0           True\n",
              "4414  I've purchased K-cups in a variety of blends a...     5.0           True\n",
              "\n",
              "[2341 rows x 3 columns]"
            ],
            "text/html": [
              "\n",
              "  <div id=\"df-9123a373-a9c4-4709-b708-4b2fe53b517c\" class=\"colab-df-container\">\n",
              "    <div>\n",
              "<style scoped>\n",
              "    .dataframe tbody tr th:only-of-type {\n",
              "        vertical-align: middle;\n",
              "    }\n",
              "\n",
              "    .dataframe tbody tr th {\n",
              "        vertical-align: top;\n",
              "    }\n",
              "\n",
              "    .dataframe thead th {\n",
              "        text-align: right;\n",
              "    }\n",
              "</style>\n",
              "<table border=\"1\" class=\"dataframe\">\n",
              "  <thead>\n",
              "    <tr style=\"text-align: right;\">\n",
              "      <th></th>\n",
              "      <th>text</th>\n",
              "      <th>rating</th>\n",
              "      <th>unusual_chars</th>\n",
              "    </tr>\n",
              "  </thead>\n",
              "  <tbody>\n",
              "    <tr>\n",
              "      <th>1</th>\n",
              "      <td>\"Product arrived labeled as Jumbo Salted Peanu...</td>\n",
              "      <td>1.0</td>\n",
              "      <td>True</td>\n",
              "    </tr>\n",
              "    <tr>\n",
              "      <th>2</th>\n",
              "      <td>If you are looking for the secret ingredient i...</td>\n",
              "      <td>2.0</td>\n",
              "      <td>True</td>\n",
              "    </tr>\n",
              "    <tr>\n",
              "      <th>3</th>\n",
              "      <td>Right now I'm mostly just sprouting this so my...</td>\n",
              "      <td>5.0</td>\n",
              "      <td>True</td>\n",
              "    </tr>\n",
              "    <tr>\n",
              "      <th>10</th>\n",
              "      <td>I can remember buying this candy as a kid and ...</td>\n",
              "      <td>5.0</td>\n",
              "      <td>True</td>\n",
              "    </tr>\n",
              "    <tr>\n",
              "      <th>12</th>\n",
              "      <td>I was so glad Amazon carried these batteries. ...</td>\n",
              "      <td>4.0</td>\n",
              "      <td>True</td>\n",
              "    </tr>\n",
              "    <tr>\n",
              "      <th>...</th>\n",
              "      <td>...</td>\n",
              "      <td>...</td>\n",
              "      <td>...</td>\n",
              "    </tr>\n",
              "    <tr>\n",
              "      <th>4401</th>\n",
              "      <td>We came across this tea at PF Chang's China Bi...</td>\n",
              "      <td>5.0</td>\n",
              "      <td>True</td>\n",
              "    </tr>\n",
              "    <tr>\n",
              "      <th>4402</th>\n",
              "      <td>If you enjoy a cup (or two) of awesome tea...l...</td>\n",
              "      <td>5.0</td>\n",
              "      <td>True</td>\n",
              "    </tr>\n",
              "    <tr>\n",
              "      <th>4403</th>\n",
              "      <td>We enjoy hot tea and we find Revolution tea to...</td>\n",
              "      <td>5.0</td>\n",
              "      <td>True</td>\n",
              "    </tr>\n",
              "    <tr>\n",
              "      <th>4405</th>\n",
              "      <td>\"Just regular breakfast coffee...a great way t...</td>\n",
              "      <td>5.0</td>\n",
              "      <td>True</td>\n",
              "    </tr>\n",
              "    <tr>\n",
              "      <th>4414</th>\n",
              "      <td>I've purchased K-cups in a variety of blends a...</td>\n",
              "      <td>5.0</td>\n",
              "      <td>True</td>\n",
              "    </tr>\n",
              "  </tbody>\n",
              "</table>\n",
              "<p>2341 rows × 3 columns</p>\n",
              "</div>\n",
              "    <div class=\"colab-df-buttons\">\n",
              "\n",
              "  <div class=\"colab-df-container\">\n",
              "    <button class=\"colab-df-convert\" onclick=\"convertToInteractive('df-9123a373-a9c4-4709-b708-4b2fe53b517c')\"\n",
              "            title=\"Convert this dataframe to an interactive table.\"\n",
              "            style=\"display:none;\">\n",
              "\n",
              "  <svg xmlns=\"http://www.w3.org/2000/svg\" height=\"24px\" viewBox=\"0 -960 960 960\">\n",
              "    <path d=\"M120-120v-720h720v720H120Zm60-500h600v-160H180v160Zm220 220h160v-160H400v160Zm0 220h160v-160H400v160ZM180-400h160v-160H180v160Zm440 0h160v-160H620v160ZM180-180h160v-160H180v160Zm440 0h160v-160H620v160Z\"/>\n",
              "  </svg>\n",
              "    </button>\n",
              "\n",
              "  <style>\n",
              "    .colab-df-container {\n",
              "      display:flex;\n",
              "      gap: 12px;\n",
              "    }\n",
              "\n",
              "    .colab-df-convert {\n",
              "      background-color: #E8F0FE;\n",
              "      border: none;\n",
              "      border-radius: 50%;\n",
              "      cursor: pointer;\n",
              "      display: none;\n",
              "      fill: #1967D2;\n",
              "      height: 32px;\n",
              "      padding: 0 0 0 0;\n",
              "      width: 32px;\n",
              "    }\n",
              "\n",
              "    .colab-df-convert:hover {\n",
              "      background-color: #E2EBFA;\n",
              "      box-shadow: 0px 1px 2px rgba(60, 64, 67, 0.3), 0px 1px 3px 1px rgba(60, 64, 67, 0.15);\n",
              "      fill: #174EA6;\n",
              "    }\n",
              "\n",
              "    .colab-df-buttons div {\n",
              "      margin-bottom: 4px;\n",
              "    }\n",
              "\n",
              "    [theme=dark] .colab-df-convert {\n",
              "      background-color: #3B4455;\n",
              "      fill: #D2E3FC;\n",
              "    }\n",
              "\n",
              "    [theme=dark] .colab-df-convert:hover {\n",
              "      background-color: #434B5C;\n",
              "      box-shadow: 0px 1px 3px 1px rgba(0, 0, 0, 0.15);\n",
              "      filter: drop-shadow(0px 1px 2px rgba(0, 0, 0, 0.3));\n",
              "      fill: #FFFFFF;\n",
              "    }\n",
              "  </style>\n",
              "\n",
              "    <script>\n",
              "      const buttonEl =\n",
              "        document.querySelector('#df-9123a373-a9c4-4709-b708-4b2fe53b517c button.colab-df-convert');\n",
              "      buttonEl.style.display =\n",
              "        google.colab.kernel.accessAllowed ? 'block' : 'none';\n",
              "\n",
              "      async function convertToInteractive(key) {\n",
              "        const element = document.querySelector('#df-9123a373-a9c4-4709-b708-4b2fe53b517c');\n",
              "        const dataTable =\n",
              "          await google.colab.kernel.invokeFunction('convertToInteractive',\n",
              "                                                    [key], {});\n",
              "        if (!dataTable) return;\n",
              "\n",
              "        const docLinkHtml = 'Like what you see? Visit the ' +\n",
              "          '<a target=\"_blank\" href=https://colab.research.google.com/notebooks/data_table.ipynb>data table notebook</a>'\n",
              "          + ' to learn more about interactive tables.';\n",
              "        element.innerHTML = '';\n",
              "        dataTable['output_type'] = 'display_data';\n",
              "        await google.colab.output.renderOutput(dataTable, element);\n",
              "        const docLink = document.createElement('div');\n",
              "        docLink.innerHTML = docLinkHtml;\n",
              "        element.appendChild(docLink);\n",
              "      }\n",
              "    </script>\n",
              "  </div>\n",
              "\n",
              "\n",
              "<div id=\"df-ff7a0ab7-4fe0-4516-a5cc-05cb65eb905a\">\n",
              "  <button class=\"colab-df-quickchart\" onclick=\"quickchart('df-ff7a0ab7-4fe0-4516-a5cc-05cb65eb905a')\"\n",
              "            title=\"Suggest charts\"\n",
              "            style=\"display:none;\">\n",
              "\n",
              "<svg xmlns=\"http://www.w3.org/2000/svg\" height=\"24px\"viewBox=\"0 0 24 24\"\n",
              "     width=\"24px\">\n",
              "    <g>\n",
              "        <path d=\"M19 3H5c-1.1 0-2 .9-2 2v14c0 1.1.9 2 2 2h14c1.1 0 2-.9 2-2V5c0-1.1-.9-2-2-2zM9 17H7v-7h2v7zm4 0h-2V7h2v10zm4 0h-2v-4h2v4z\"/>\n",
              "    </g>\n",
              "</svg>\n",
              "  </button>\n",
              "\n",
              "<style>\n",
              "  .colab-df-quickchart {\n",
              "      --bg-color: #E8F0FE;\n",
              "      --fill-color: #1967D2;\n",
              "      --hover-bg-color: #E2EBFA;\n",
              "      --hover-fill-color: #174EA6;\n",
              "      --disabled-fill-color: #AAA;\n",
              "      --disabled-bg-color: #DDD;\n",
              "  }\n",
              "\n",
              "  [theme=dark] .colab-df-quickchart {\n",
              "      --bg-color: #3B4455;\n",
              "      --fill-color: #D2E3FC;\n",
              "      --hover-bg-color: #434B5C;\n",
              "      --hover-fill-color: #FFFFFF;\n",
              "      --disabled-bg-color: #3B4455;\n",
              "      --disabled-fill-color: #666;\n",
              "  }\n",
              "\n",
              "  .colab-df-quickchart {\n",
              "    background-color: var(--bg-color);\n",
              "    border: none;\n",
              "    border-radius: 50%;\n",
              "    cursor: pointer;\n",
              "    display: none;\n",
              "    fill: var(--fill-color);\n",
              "    height: 32px;\n",
              "    padding: 0;\n",
              "    width: 32px;\n",
              "  }\n",
              "\n",
              "  .colab-df-quickchart:hover {\n",
              "    background-color: var(--hover-bg-color);\n",
              "    box-shadow: 0 1px 2px rgba(60, 64, 67, 0.3), 0 1px 3px 1px rgba(60, 64, 67, 0.15);\n",
              "    fill: var(--button-hover-fill-color);\n",
              "  }\n",
              "\n",
              "  .colab-df-quickchart-complete:disabled,\n",
              "  .colab-df-quickchart-complete:disabled:hover {\n",
              "    background-color: var(--disabled-bg-color);\n",
              "    fill: var(--disabled-fill-color);\n",
              "    box-shadow: none;\n",
              "  }\n",
              "\n",
              "  .colab-df-spinner {\n",
              "    border: 2px solid var(--fill-color);\n",
              "    border-color: transparent;\n",
              "    border-bottom-color: var(--fill-color);\n",
              "    animation:\n",
              "      spin 1s steps(1) infinite;\n",
              "  }\n",
              "\n",
              "  @keyframes spin {\n",
              "    0% {\n",
              "      border-color: transparent;\n",
              "      border-bottom-color: var(--fill-color);\n",
              "      border-left-color: var(--fill-color);\n",
              "    }\n",
              "    20% {\n",
              "      border-color: transparent;\n",
              "      border-left-color: var(--fill-color);\n",
              "      border-top-color: var(--fill-color);\n",
              "    }\n",
              "    30% {\n",
              "      border-color: transparent;\n",
              "      border-left-color: var(--fill-color);\n",
              "      border-top-color: var(--fill-color);\n",
              "      border-right-color: var(--fill-color);\n",
              "    }\n",
              "    40% {\n",
              "      border-color: transparent;\n",
              "      border-right-color: var(--fill-color);\n",
              "      border-top-color: var(--fill-color);\n",
              "    }\n",
              "    60% {\n",
              "      border-color: transparent;\n",
              "      border-right-color: var(--fill-color);\n",
              "    }\n",
              "    80% {\n",
              "      border-color: transparent;\n",
              "      border-right-color: var(--fill-color);\n",
              "      border-bottom-color: var(--fill-color);\n",
              "    }\n",
              "    90% {\n",
              "      border-color: transparent;\n",
              "      border-bottom-color: var(--fill-color);\n",
              "    }\n",
              "  }\n",
              "</style>\n",
              "\n",
              "  <script>\n",
              "    async function quickchart(key) {\n",
              "      const quickchartButtonEl =\n",
              "        document.querySelector('#' + key + ' button');\n",
              "      quickchartButtonEl.disabled = true;  // To prevent multiple clicks.\n",
              "      quickchartButtonEl.classList.add('colab-df-spinner');\n",
              "      try {\n",
              "        const charts = await google.colab.kernel.invokeFunction(\n",
              "            'suggestCharts', [key], {});\n",
              "      } catch (error) {\n",
              "        console.error('Error during call to suggestCharts:', error);\n",
              "      }\n",
              "      quickchartButtonEl.classList.remove('colab-df-spinner');\n",
              "      quickchartButtonEl.classList.add('colab-df-quickchart-complete');\n",
              "    }\n",
              "    (() => {\n",
              "      let quickchartButtonEl =\n",
              "        document.querySelector('#df-ff7a0ab7-4fe0-4516-a5cc-05cb65eb905a button');\n",
              "      quickchartButtonEl.style.display =\n",
              "        google.colab.kernel.accessAllowed ? 'block' : 'none';\n",
              "    })();\n",
              "  </script>\n",
              "</div>\n",
              "\n",
              "    </div>\n",
              "  </div>\n"
            ],
            "application/vnd.google.colaboratory.intrinsic+json": {
              "type": "dataframe",
              "summary": "{\n  \"name\": \"df[df['unusual_chars'] == True]\",\n  \"rows\": 2341,\n  \"fields\": [\n    {\n      \"column\": \"text\",\n      \"properties\": {\n        \"dtype\": \"string\",\n        \"num_unique_values\": 2243,\n        \"samples\": [\n          \"One of my dogs is allergic to almost everything in dog food.  Newman's Own for senior dogs makes all the difference in her health.\",\n          \"\\\"It definitely smells like dark chocolate but the taste is just average.... I can't say I taste the \\\"\\\"dark chocolate decadence\\\"\\\".... And it's not that strong but usually I like stronger tasting coffee.\\\"\",\n          \"I love this product and can't find it locally. Thanks Amazon I turn to you for help when I can't find things in my community.\"\n        ],\n        \"semantic_type\": \"\",\n        \"description\": \"\"\n      }\n    },\n    {\n      \"column\": \"rating\",\n      \"properties\": {\n        \"dtype\": \"number\",\n        \"std\": 1.3142499554690033,\n        \"min\": 1.0,\n        \"max\": 5.0,\n        \"num_unique_values\": 5,\n        \"samples\": [\n          2.0,\n          3.0,\n          5.0\n        ],\n        \"semantic_type\": \"\",\n        \"description\": \"\"\n      }\n    },\n    {\n      \"column\": \"unusual_chars\",\n      \"properties\": {\n        \"dtype\": \"boolean\",\n        \"num_unique_values\": 1,\n        \"samples\": [\n          true\n        ],\n        \"semantic_type\": \"\",\n        \"description\": \"\"\n      }\n    }\n  ]\n}"
            }
          },
          "metadata": {},
          "execution_count": 10
        }
      ],
      "source": [
        "# View identified characters\n",
        "df[df['unusual_chars'] == True]"
      ]
    },
    {
      "cell_type": "code",
      "execution_count": null,
      "id": "db3e2bb0",
      "metadata": {
        "colab": {
          "base_uri": "https://localhost:8080/"
        },
        "id": "db3e2bb0",
        "outputId": "698a678e-ffe1-4721-e072-c5b07300ad4e"
      },
      "outputs": [
        {
          "output_type": "stream",
          "name": "stdout",
          "text": [
            "Percent of Observation with Unusual Characters: 52.98%\n"
          ]
        }
      ],
      "source": [
        "# Quantify observations found\n",
        "print(f'Percent of Observation with Unusual Characters: {round(df.unusual_chars.mean() * 100, 2)}%')"
      ]
    },
    {
      "cell_type": "code",
      "execution_count": null,
      "id": "9b5985f9",
      "metadata": {
        "id": "9b5985f9"
      },
      "outputs": [],
      "source": [
        "# Initialize a Tokenizer object\n",
        "tokenizer = Tokenizer(num_words=10000)"
      ]
    },
    {
      "cell_type": "code",
      "execution_count": null,
      "id": "1e44edc7",
      "metadata": {
        "id": "1e44edc7"
      },
      "outputs": [],
      "source": [
        "# Fit the tokenizer on the text data\n",
        "tokenizer.fit_on_texts(df['text'])"
      ]
    },
    {
      "cell_type": "code",
      "execution_count": null,
      "id": "a5485d28",
      "metadata": {
        "id": "a5485d28"
      },
      "outputs": [],
      "source": [
        "# Convert texts into sequences of integers and tokens\n",
        "df['sequence'] = tokenizer.texts_to_sequences(df['text'])\n",
        "df['seq_text'] = tokenizer.sequences_to_texts(df['sequence'])"
      ]
    },
    {
      "cell_type": "code",
      "execution_count": null,
      "id": "8c798c99",
      "metadata": {
        "colab": {
          "base_uri": "https://localhost:8080/"
        },
        "id": "8c798c99",
        "outputId": "a4431af9-04cf-44d0-d5e7-896157433e2e"
      },
      "outputs": [
        {
          "output_type": "stream",
          "name": "stdout",
          "text": [
            "Found 8711 unique tokens.\n"
          ]
        }
      ],
      "source": [
        "# Count the word index\n",
        "word_index = tokenizer.word_index\n",
        "print(f'Found {len(word_index)} unique tokens.')"
      ]
    },
    {
      "cell_type": "code",
      "execution_count": null,
      "id": "3dc37a96",
      "metadata": {
        "id": "3dc37a96"
      },
      "outputs": [],
      "source": [
        "# Calculate sequence lengths\n",
        "df['seq_length'] = df['sequence'].apply(len)\n",
        "df.drop('sequence', axis=1, inplace=True)"
      ]
    },
    {
      "cell_type": "code",
      "execution_count": null,
      "id": "dad2a9f1",
      "metadata": {
        "colab": {
          "base_uri": "https://localhost:8080/"
        },
        "id": "dad2a9f1",
        "outputId": "4292712d-8569-438b-cab0-ac1ff0057d3e"
      },
      "outputs": [
        {
          "output_type": "stream",
          "name": "stdout",
          "text": [
            "count    4419.000000\n",
            "mean       41.309572\n",
            "std        26.503416\n",
            "min         6.000000\n",
            "25%        24.000000\n",
            "50%        34.000000\n",
            "75%        49.000000\n",
            "max       463.000000\n",
            "Name: seq_length, dtype: float64\n"
          ]
        }
      ],
      "source": [
        "# Print summary statistics\n",
        "print(df['seq_length'].describe())"
      ]
    },
    {
      "cell_type": "code",
      "execution_count": null,
      "id": "461a61f2",
      "metadata": {
        "colab": {
          "base_uri": "https://localhost:8080/"
        },
        "id": "461a61f2",
        "outputId": "f4a0345d-d572-4059-ea47-12e646c7734e"
      },
      "outputs": [
        {
          "output_type": "stream",
          "name": "stdout",
          "text": [
            "Chosen Maximum Sequence Length: 90 tokens\n"
          ]
        }
      ],
      "source": [
        "# Identify the 95th percentile of sequence lengths\n",
        "max_seq = int(df.seq_length.quantile(0.95))\n",
        "print(f'Chosen Maximum Sequence Length: {max_seq} tokens')"
      ]
    },
    {
      "cell_type": "code",
      "execution_count": null,
      "id": "UDMaYULFb2EE",
      "metadata": {
        "colab": {
          "base_uri": "https://localhost:8080/"
        },
        "id": "UDMaYULFb2EE",
        "outputId": "a3528431-a761-4af7-b1d6-4b2981f77857"
      },
      "outputs": [
        {
          "output_type": "stream",
          "name": "stderr",
          "text": [
            "[nltk_data] Downloading package punkt_tab to /root/nltk_data...\n",
            "[nltk_data]   Unzipping tokenizers/punkt_tab.zip.\n"
          ]
        },
        {
          "output_type": "execute_result",
          "data": {
            "text/plain": [
              "True"
            ]
          },
          "metadata": {},
          "execution_count": 19
        }
      ],
      "source": [
        "import nltk\n",
        "nltk.download('punkt_tab')"
      ]
    },
    {
      "cell_type": "code",
      "execution_count": null,
      "id": "f3ee814b",
      "metadata": {
        "id": "f3ee814b"
      },
      "outputs": [],
      "source": [
        "# Tokenize text sequence\n",
        "df['tokens'] = df['seq_text'].apply(word_tokenize)"
      ]
    },
    {
      "cell_type": "code",
      "execution_count": null,
      "id": "4b88d85b",
      "metadata": {
        "id": "4b88d85b"
      },
      "outputs": [],
      "source": [
        "# Initialize a WordNetLemmatizer object\n",
        "lemmatizer = WordNetLemmatizer()"
      ]
    },
    {
      "cell_type": "code",
      "execution_count": null,
      "id": "833be10b",
      "metadata": {
        "id": "833be10b"
      },
      "outputs": [],
      "source": [
        "# Define a function to lemmatize tokens\n",
        "def lemmatize_words(words):\n",
        "    return [lemmatizer.lemmatize(word) for word in words]"
      ]
    },
    {
      "cell_type": "code",
      "execution_count": null,
      "id": "LyfV1_LXcDVe",
      "metadata": {
        "colab": {
          "base_uri": "https://localhost:8080/"
        },
        "id": "LyfV1_LXcDVe",
        "outputId": "8a20032c-9a4d-4674-b474-f560104f55fd"
      },
      "outputs": [
        {
          "output_type": "stream",
          "name": "stderr",
          "text": [
            "[nltk_data] Downloading package wordnet to /root/nltk_data...\n"
          ]
        },
        {
          "output_type": "execute_result",
          "data": {
            "text/plain": [
              "True"
            ]
          },
          "metadata": {},
          "execution_count": 23
        }
      ],
      "source": [
        "nltk.download('wordnet')"
      ]
    },
    {
      "cell_type": "code",
      "execution_count": null,
      "id": "0e473e18",
      "metadata": {
        "id": "0e473e18"
      },
      "outputs": [],
      "source": [
        "# Convert words into their root forms\n",
        "df['lemmatized'] = df['tokens'].apply(lemmatize_words)"
      ]
    },
    {
      "cell_type": "code",
      "execution_count": null,
      "id": "DfQ39HELcSL5",
      "metadata": {
        "colab": {
          "base_uri": "https://localhost:8080/"
        },
        "id": "DfQ39HELcSL5",
        "outputId": "248ff732-5e55-4e08-aa19-9219e173afe8"
      },
      "outputs": [
        {
          "output_type": "stream",
          "name": "stderr",
          "text": [
            "[nltk_data] Downloading package stopwords to /root/nltk_data...\n",
            "[nltk_data]   Unzipping corpora/stopwords.zip.\n"
          ]
        },
        {
          "output_type": "execute_result",
          "data": {
            "text/plain": [
              "True"
            ]
          },
          "metadata": {},
          "execution_count": 25
        }
      ],
      "source": [
        "nltk.download('stopwords')"
      ]
    },
    {
      "cell_type": "code",
      "execution_count": null,
      "id": "bc93e57b",
      "metadata": {
        "id": "bc93e57b"
      },
      "outputs": [],
      "source": [
        "stop_words = set(stopwords.words('english'))\n",
        "\n",
        "# Define function to remove stop words\n",
        "def remove_stopwords(words):\n",
        "    return [word for word in words if word not in stop_words]"
      ]
    },
    {
      "cell_type": "code",
      "execution_count": null,
      "id": "24ec3cdd",
      "metadata": {
        "id": "24ec3cdd"
      },
      "outputs": [],
      "source": [
        "# Remove stop words from tokenized text\n",
        "df['filtered'] = df['lemmatized'].apply(remove_stopwords)"
      ]
    },
    {
      "cell_type": "code",
      "execution_count": null,
      "id": "db94feb9",
      "metadata": {
        "id": "db94feb9"
      },
      "outputs": [],
      "source": [
        "# Fit the tokenizer on the text data\n",
        "tokenizer.fit_on_texts(df['filtered'])"
      ]
    },
    {
      "cell_type": "code",
      "execution_count": null,
      "id": "b13e997a",
      "metadata": {
        "colab": {
          "base_uri": "https://localhost:8080/"
        },
        "id": "b13e997a",
        "outputId": "d372a0bd-d1c3-4c83-ed1e-b58648c04d92"
      },
      "outputs": [
        {
          "output_type": "stream",
          "name": "stdout",
          "text": [
            "Found 9081 unique tokens.\n"
          ]
        }
      ],
      "source": [
        "# Count the word index\n",
        "word_index = tokenizer.word_index\n",
        "print(f'Found {len(word_index)} unique tokens.')"
      ]
    },
    {
      "cell_type": "code",
      "execution_count": null,
      "id": "c8a2dd89",
      "metadata": {
        "id": "c8a2dd89"
      },
      "outputs": [],
      "source": [
        "# Sequence the filtered text\n",
        "df['seq'] = tokenizer.texts_to_sequences(df['filtered'])"
      ]
    },
    {
      "cell_type": "code",
      "execution_count": null,
      "id": "55cd05b5",
      "metadata": {
        "id": "55cd05b5"
      },
      "outputs": [],
      "source": [
        "# Pad sequences\n",
        "padded_sequences = pad_sequences(df['seq'].values, maxlen=max_seq)"
      ]
    },
    {
      "cell_type": "code",
      "execution_count": null,
      "id": "08ea6b75",
      "metadata": {
        "colab": {
          "base_uri": "https://localhost:8080/"
        },
        "id": "08ea6b75",
        "outputId": "dc9d5452-b4c9-4ab6-a6c2-6172ac5a9cea"
      },
      "outputs": [
        {
          "output_type": "execute_result",
          "data": {
            "text/plain": [
              "['bought',\n",
              " 'several',\n",
              " 'vitality',\n",
              " 'canned',\n",
              " 'dog',\n",
              " 'food',\n",
              " 'product',\n",
              " 'found',\n",
              " 'good',\n",
              " 'quality',\n",
              " 'product',\n",
              " 'look',\n",
              " 'like',\n",
              " 'stew',\n",
              " 'processed',\n",
              " 'meat',\n",
              " 'smell',\n",
              " 'better',\n",
              " 'labrador',\n",
              " 'finicky',\n",
              " 'appreciates',\n",
              " 'product',\n",
              " 'better']"
            ]
          },
          "metadata": {},
          "execution_count": 32
        }
      ],
      "source": [
        "# Single sequence\n",
        "df.loc[0]['filtered']"
      ]
    },
    {
      "cell_type": "code",
      "execution_count": null,
      "id": "8f7237e1",
      "metadata": {
        "colab": {
          "base_uri": "https://localhost:8080/"
        },
        "id": "8f7237e1",
        "outputId": "a0d1eed1-7078-4e85-c429-893c36d21bd1"
      },
      "outputs": [
        {
          "output_type": "execute_result",
          "data": {
            "text/plain": [
              "array([   0,    0,    0,    0,    0,    0,    0,    0,    0,    0,    0,\n",
              "          0,    0,    0,    0,    0,    0,    0,    0,    0,    0,    0,\n",
              "          0,    0,    0,    0,    0,    0,    0,    0,    0,    0,    0,\n",
              "          0,    0,    0,    0,    0,    0,    0,    0,    0,    0,    0,\n",
              "          0,    0,    0,    0,    0,    0,    0,    0,    0,    0,    0,\n",
              "          0,    0,    0,    0,    0,    0,    0,    0,    0,    0,    0,\n",
              "          0,   70,  238, 4873,  788,   58,   53,   18,   84,   14,  128,\n",
              "         18,  298,   17, 2411, 1629,  552,  279,   65, 4874, 2412, 4875,\n",
              "         18,   65], dtype=int32)"
            ]
          },
          "metadata": {},
          "execution_count": 33
        }
      ],
      "source": [
        "# Single padded sequence\n",
        "padded_sequences[0]"
      ]
    },
    {
      "cell_type": "code",
      "execution_count": null,
      "id": "0b035d4c",
      "metadata": {
        "id": "0b035d4c"
      },
      "outputs": [],
      "source": [
        "# Label and encode ratings\n",
        "rating_dict = {\n",
        "    1: 'Negative',\n",
        "    2: 'Negative',\n",
        "    3: 'Neutral',\n",
        "    4: 'Positive',\n",
        "    5: 'Positive'\n",
        "}\n",
        "\n",
        "df['class_rating'] = df['rating'].map(rating_dict)"
      ]
    },
    {
      "cell_type": "code",
      "execution_count": null,
      "id": "12d5d169",
      "metadata": {
        "id": "12d5d169"
      },
      "outputs": [],
      "source": [
        "# One-hot encode classes\n",
        "df_encoded = pd.get_dummies(df['class_rating'])"
      ]
    },
    {
      "cell_type": "code",
      "execution_count": null,
      "id": "8bd946bf",
      "metadata": {
        "colab": {
          "base_uri": "https://localhost:8080/",
          "height": 206
        },
        "id": "8bd946bf",
        "outputId": "5a4b1021-10eb-4b94-8443-0492ffe4e56d"
      },
      "outputs": [
        {
          "output_type": "execute_result",
          "data": {
            "text/plain": [
              "   Negative  Neutral  Positive\n",
              "0     False    False      True\n",
              "1      True    False     False\n",
              "2      True    False     False\n",
              "3     False    False      True\n",
              "4     False    False      True"
            ],
            "text/html": [
              "\n",
              "  <div id=\"df-0e1f9132-761a-4d9f-87bb-36ca8051c508\" class=\"colab-df-container\">\n",
              "    <div>\n",
              "<style scoped>\n",
              "    .dataframe tbody tr th:only-of-type {\n",
              "        vertical-align: middle;\n",
              "    }\n",
              "\n",
              "    .dataframe tbody tr th {\n",
              "        vertical-align: top;\n",
              "    }\n",
              "\n",
              "    .dataframe thead th {\n",
              "        text-align: right;\n",
              "    }\n",
              "</style>\n",
              "<table border=\"1\" class=\"dataframe\">\n",
              "  <thead>\n",
              "    <tr style=\"text-align: right;\">\n",
              "      <th></th>\n",
              "      <th>Negative</th>\n",
              "      <th>Neutral</th>\n",
              "      <th>Positive</th>\n",
              "    </tr>\n",
              "  </thead>\n",
              "  <tbody>\n",
              "    <tr>\n",
              "      <th>0</th>\n",
              "      <td>False</td>\n",
              "      <td>False</td>\n",
              "      <td>True</td>\n",
              "    </tr>\n",
              "    <tr>\n",
              "      <th>1</th>\n",
              "      <td>True</td>\n",
              "      <td>False</td>\n",
              "      <td>False</td>\n",
              "    </tr>\n",
              "    <tr>\n",
              "      <th>2</th>\n",
              "      <td>True</td>\n",
              "      <td>False</td>\n",
              "      <td>False</td>\n",
              "    </tr>\n",
              "    <tr>\n",
              "      <th>3</th>\n",
              "      <td>False</td>\n",
              "      <td>False</td>\n",
              "      <td>True</td>\n",
              "    </tr>\n",
              "    <tr>\n",
              "      <th>4</th>\n",
              "      <td>False</td>\n",
              "      <td>False</td>\n",
              "      <td>True</td>\n",
              "    </tr>\n",
              "  </tbody>\n",
              "</table>\n",
              "</div>\n",
              "    <div class=\"colab-df-buttons\">\n",
              "\n",
              "  <div class=\"colab-df-container\">\n",
              "    <button class=\"colab-df-convert\" onclick=\"convertToInteractive('df-0e1f9132-761a-4d9f-87bb-36ca8051c508')\"\n",
              "            title=\"Convert this dataframe to an interactive table.\"\n",
              "            style=\"display:none;\">\n",
              "\n",
              "  <svg xmlns=\"http://www.w3.org/2000/svg\" height=\"24px\" viewBox=\"0 -960 960 960\">\n",
              "    <path d=\"M120-120v-720h720v720H120Zm60-500h600v-160H180v160Zm220 220h160v-160H400v160Zm0 220h160v-160H400v160ZM180-400h160v-160H180v160Zm440 0h160v-160H620v160ZM180-180h160v-160H180v160Zm440 0h160v-160H620v160Z\"/>\n",
              "  </svg>\n",
              "    </button>\n",
              "\n",
              "  <style>\n",
              "    .colab-df-container {\n",
              "      display:flex;\n",
              "      gap: 12px;\n",
              "    }\n",
              "\n",
              "    .colab-df-convert {\n",
              "      background-color: #E8F0FE;\n",
              "      border: none;\n",
              "      border-radius: 50%;\n",
              "      cursor: pointer;\n",
              "      display: none;\n",
              "      fill: #1967D2;\n",
              "      height: 32px;\n",
              "      padding: 0 0 0 0;\n",
              "      width: 32px;\n",
              "    }\n",
              "\n",
              "    .colab-df-convert:hover {\n",
              "      background-color: #E2EBFA;\n",
              "      box-shadow: 0px 1px 2px rgba(60, 64, 67, 0.3), 0px 1px 3px 1px rgba(60, 64, 67, 0.15);\n",
              "      fill: #174EA6;\n",
              "    }\n",
              "\n",
              "    .colab-df-buttons div {\n",
              "      margin-bottom: 4px;\n",
              "    }\n",
              "\n",
              "    [theme=dark] .colab-df-convert {\n",
              "      background-color: #3B4455;\n",
              "      fill: #D2E3FC;\n",
              "    }\n",
              "\n",
              "    [theme=dark] .colab-df-convert:hover {\n",
              "      background-color: #434B5C;\n",
              "      box-shadow: 0px 1px 3px 1px rgba(0, 0, 0, 0.15);\n",
              "      filter: drop-shadow(0px 1px 2px rgba(0, 0, 0, 0.3));\n",
              "      fill: #FFFFFF;\n",
              "    }\n",
              "  </style>\n",
              "\n",
              "    <script>\n",
              "      const buttonEl =\n",
              "        document.querySelector('#df-0e1f9132-761a-4d9f-87bb-36ca8051c508 button.colab-df-convert');\n",
              "      buttonEl.style.display =\n",
              "        google.colab.kernel.accessAllowed ? 'block' : 'none';\n",
              "\n",
              "      async function convertToInteractive(key) {\n",
              "        const element = document.querySelector('#df-0e1f9132-761a-4d9f-87bb-36ca8051c508');\n",
              "        const dataTable =\n",
              "          await google.colab.kernel.invokeFunction('convertToInteractive',\n",
              "                                                    [key], {});\n",
              "        if (!dataTable) return;\n",
              "\n",
              "        const docLinkHtml = 'Like what you see? Visit the ' +\n",
              "          '<a target=\"_blank\" href=https://colab.research.google.com/notebooks/data_table.ipynb>data table notebook</a>'\n",
              "          + ' to learn more about interactive tables.';\n",
              "        element.innerHTML = '';\n",
              "        dataTable['output_type'] = 'display_data';\n",
              "        await google.colab.output.renderOutput(dataTable, element);\n",
              "        const docLink = document.createElement('div');\n",
              "        docLink.innerHTML = docLinkHtml;\n",
              "        element.appendChild(docLink);\n",
              "      }\n",
              "    </script>\n",
              "  </div>\n",
              "\n",
              "\n",
              "<div id=\"df-45fc06d6-9ca9-4035-b130-a8903fb6d7b7\">\n",
              "  <button class=\"colab-df-quickchart\" onclick=\"quickchart('df-45fc06d6-9ca9-4035-b130-a8903fb6d7b7')\"\n",
              "            title=\"Suggest charts\"\n",
              "            style=\"display:none;\">\n",
              "\n",
              "<svg xmlns=\"http://www.w3.org/2000/svg\" height=\"24px\"viewBox=\"0 0 24 24\"\n",
              "     width=\"24px\">\n",
              "    <g>\n",
              "        <path d=\"M19 3H5c-1.1 0-2 .9-2 2v14c0 1.1.9 2 2 2h14c1.1 0 2-.9 2-2V5c0-1.1-.9-2-2-2zM9 17H7v-7h2v7zm4 0h-2V7h2v10zm4 0h-2v-4h2v4z\"/>\n",
              "    </g>\n",
              "</svg>\n",
              "  </button>\n",
              "\n",
              "<style>\n",
              "  .colab-df-quickchart {\n",
              "      --bg-color: #E8F0FE;\n",
              "      --fill-color: #1967D2;\n",
              "      --hover-bg-color: #E2EBFA;\n",
              "      --hover-fill-color: #174EA6;\n",
              "      --disabled-fill-color: #AAA;\n",
              "      --disabled-bg-color: #DDD;\n",
              "  }\n",
              "\n",
              "  [theme=dark] .colab-df-quickchart {\n",
              "      --bg-color: #3B4455;\n",
              "      --fill-color: #D2E3FC;\n",
              "      --hover-bg-color: #434B5C;\n",
              "      --hover-fill-color: #FFFFFF;\n",
              "      --disabled-bg-color: #3B4455;\n",
              "      --disabled-fill-color: #666;\n",
              "  }\n",
              "\n",
              "  .colab-df-quickchart {\n",
              "    background-color: var(--bg-color);\n",
              "    border: none;\n",
              "    border-radius: 50%;\n",
              "    cursor: pointer;\n",
              "    display: none;\n",
              "    fill: var(--fill-color);\n",
              "    height: 32px;\n",
              "    padding: 0;\n",
              "    width: 32px;\n",
              "  }\n",
              "\n",
              "  .colab-df-quickchart:hover {\n",
              "    background-color: var(--hover-bg-color);\n",
              "    box-shadow: 0 1px 2px rgba(60, 64, 67, 0.3), 0 1px 3px 1px rgba(60, 64, 67, 0.15);\n",
              "    fill: var(--button-hover-fill-color);\n",
              "  }\n",
              "\n",
              "  .colab-df-quickchart-complete:disabled,\n",
              "  .colab-df-quickchart-complete:disabled:hover {\n",
              "    background-color: var(--disabled-bg-color);\n",
              "    fill: var(--disabled-fill-color);\n",
              "    box-shadow: none;\n",
              "  }\n",
              "\n",
              "  .colab-df-spinner {\n",
              "    border: 2px solid var(--fill-color);\n",
              "    border-color: transparent;\n",
              "    border-bottom-color: var(--fill-color);\n",
              "    animation:\n",
              "      spin 1s steps(1) infinite;\n",
              "  }\n",
              "\n",
              "  @keyframes spin {\n",
              "    0% {\n",
              "      border-color: transparent;\n",
              "      border-bottom-color: var(--fill-color);\n",
              "      border-left-color: var(--fill-color);\n",
              "    }\n",
              "    20% {\n",
              "      border-color: transparent;\n",
              "      border-left-color: var(--fill-color);\n",
              "      border-top-color: var(--fill-color);\n",
              "    }\n",
              "    30% {\n",
              "      border-color: transparent;\n",
              "      border-left-color: var(--fill-color);\n",
              "      border-top-color: var(--fill-color);\n",
              "      border-right-color: var(--fill-color);\n",
              "    }\n",
              "    40% {\n",
              "      border-color: transparent;\n",
              "      border-right-color: var(--fill-color);\n",
              "      border-top-color: var(--fill-color);\n",
              "    }\n",
              "    60% {\n",
              "      border-color: transparent;\n",
              "      border-right-color: var(--fill-color);\n",
              "    }\n",
              "    80% {\n",
              "      border-color: transparent;\n",
              "      border-right-color: var(--fill-color);\n",
              "      border-bottom-color: var(--fill-color);\n",
              "    }\n",
              "    90% {\n",
              "      border-color: transparent;\n",
              "      border-bottom-color: var(--fill-color);\n",
              "    }\n",
              "  }\n",
              "</style>\n",
              "\n",
              "  <script>\n",
              "    async function quickchart(key) {\n",
              "      const quickchartButtonEl =\n",
              "        document.querySelector('#' + key + ' button');\n",
              "      quickchartButtonEl.disabled = true;  // To prevent multiple clicks.\n",
              "      quickchartButtonEl.classList.add('colab-df-spinner');\n",
              "      try {\n",
              "        const charts = await google.colab.kernel.invokeFunction(\n",
              "            'suggestCharts', [key], {});\n",
              "      } catch (error) {\n",
              "        console.error('Error during call to suggestCharts:', error);\n",
              "      }\n",
              "      quickchartButtonEl.classList.remove('colab-df-spinner');\n",
              "      quickchartButtonEl.classList.add('colab-df-quickchart-complete');\n",
              "    }\n",
              "    (() => {\n",
              "      let quickchartButtonEl =\n",
              "        document.querySelector('#df-45fc06d6-9ca9-4035-b130-a8903fb6d7b7 button');\n",
              "      quickchartButtonEl.style.display =\n",
              "        google.colab.kernel.accessAllowed ? 'block' : 'none';\n",
              "    })();\n",
              "  </script>\n",
              "</div>\n",
              "\n",
              "    </div>\n",
              "  </div>\n"
            ],
            "application/vnd.google.colaboratory.intrinsic+json": {
              "type": "dataframe",
              "variable_name": "df_encoded",
              "summary": "{\n  \"name\": \"df_encoded\",\n  \"rows\": 4419,\n  \"fields\": [\n    {\n      \"column\": \"Negative\",\n      \"properties\": {\n        \"dtype\": \"boolean\",\n        \"num_unique_values\": 2,\n        \"samples\": [\n          true,\n          false\n        ],\n        \"semantic_type\": \"\",\n        \"description\": \"\"\n      }\n    },\n    {\n      \"column\": \"Neutral\",\n      \"properties\": {\n        \"dtype\": \"boolean\",\n        \"num_unique_values\": 2,\n        \"samples\": [\n          true,\n          false\n        ],\n        \"semantic_type\": \"\",\n        \"description\": \"\"\n      }\n    },\n    {\n      \"column\": \"Positive\",\n      \"properties\": {\n        \"dtype\": \"boolean\",\n        \"num_unique_values\": 2,\n        \"samples\": [\n          false,\n          true\n        ],\n        \"semantic_type\": \"\",\n        \"description\": \"\"\n      }\n    }\n  ]\n}"
            }
          },
          "metadata": {},
          "execution_count": 36
        }
      ],
      "source": [
        "df_encoded.head()"
      ]
    },
    {
      "cell_type": "code",
      "execution_count": null,
      "id": "890d0662",
      "metadata": {
        "id": "890d0662"
      },
      "outputs": [],
      "source": [
        "# Define the X and y values\n",
        "X = padded_sequences\n",
        "y = df_encoded.values"
      ]
    },
    {
      "cell_type": "code",
      "execution_count": null,
      "id": "48f36f7f",
      "metadata": {
        "id": "48f36f7f"
      },
      "outputs": [],
      "source": [
        "# Split training and testing sets\n",
        "X_train, X_test, y_train, y_test = train_test_split(X, y, train_size=0.7)"
      ]
    },
    {
      "cell_type": "markdown",
      "id": "606675af",
      "metadata": {
        "id": "606675af"
      },
      "source": [
        "### B6. Prepared Dataset<a id='b6'/>\n",
        "---"
      ]
    },
    {
      "cell_type": "code",
      "execution_count": null,
      "id": "88518333",
      "metadata": {
        "colab": {
          "base_uri": "https://localhost:8080/",
          "height": 423
        },
        "id": "88518333",
        "outputId": "731e6bc2-ec01-4af2-8470-9ee461147b16"
      },
      "outputs": [
        {
          "output_type": "execute_result",
          "data": {
            "text/plain": [
              "      0  1  2  3  4  5  6  7  8  9  ...   83    84    85    86    87    88  \\\n",
              "0     0  0  0  0  0  0  0  0  0  0  ...  279    65  4874  2412  4875    18   \n",
              "1     0  0  0  0  0  0  0  0  0  0  ...   23  2142  1028  2143  4876    18   \n",
              "2     0  0  0  0  0  0  0  0  0  0  ...   23    14    91   789   442    22   \n",
              "3     0  0  0  0  0  0  0  0  0  0  ...   80   766    19  3532   275  4878   \n",
              "4     0  0  0  0  0  0  0  0  0  0  ...  845    58   989  1946   325   108   \n",
              "...  .. .. .. .. .. .. .. .. .. ..  ...  ...   ...   ...   ...   ...   ...   \n",
              "4414  0  0  0  0  0  0  0  0  0  0  ...  461   141    66  1001    78    43   \n",
              "4415  0  0  0  0  0  0  0  0  0  0  ...   40    42   165    14   125    43   \n",
              "4416  0  0  0  0  0  0  0  0  0  0  ...  148   187   326   139   187    16   \n",
              "4417  0  0  0  0  0  0  0  0  0  0  ...  110    78   352   250    84  1443   \n",
              "4418  0  0  0  0  0  0  0  0  0  0  ...  352    48   130    66    90  1894   \n",
              "\n",
              "        89  Negative  Neutral  Positive  \n",
              "0       65     False    False      True  \n",
              "1     2833      True    False     False  \n",
              "2     2836      True    False     False  \n",
              "3     2414     False    False      True  \n",
              "4      956     False    False      True  \n",
              "...    ...       ...      ...       ...  \n",
              "4414    48     False    False      True  \n",
              "4415   354     False    False      True  \n",
              "4416   389     False    False      True  \n",
              "4417   163     False    False      True  \n",
              "4418    43     False    False      True  \n",
              "\n",
              "[4419 rows x 93 columns]"
            ],
            "text/html": [
              "\n",
              "  <div id=\"df-672d0125-c296-463c-bd20-e731c3fe7264\" class=\"colab-df-container\">\n",
              "    <div>\n",
              "<style scoped>\n",
              "    .dataframe tbody tr th:only-of-type {\n",
              "        vertical-align: middle;\n",
              "    }\n",
              "\n",
              "    .dataframe tbody tr th {\n",
              "        vertical-align: top;\n",
              "    }\n",
              "\n",
              "    .dataframe thead th {\n",
              "        text-align: right;\n",
              "    }\n",
              "</style>\n",
              "<table border=\"1\" class=\"dataframe\">\n",
              "  <thead>\n",
              "    <tr style=\"text-align: right;\">\n",
              "      <th></th>\n",
              "      <th>0</th>\n",
              "      <th>1</th>\n",
              "      <th>2</th>\n",
              "      <th>3</th>\n",
              "      <th>4</th>\n",
              "      <th>5</th>\n",
              "      <th>6</th>\n",
              "      <th>7</th>\n",
              "      <th>8</th>\n",
              "      <th>9</th>\n",
              "      <th>...</th>\n",
              "      <th>83</th>\n",
              "      <th>84</th>\n",
              "      <th>85</th>\n",
              "      <th>86</th>\n",
              "      <th>87</th>\n",
              "      <th>88</th>\n",
              "      <th>89</th>\n",
              "      <th>Negative</th>\n",
              "      <th>Neutral</th>\n",
              "      <th>Positive</th>\n",
              "    </tr>\n",
              "  </thead>\n",
              "  <tbody>\n",
              "    <tr>\n",
              "      <th>0</th>\n",
              "      <td>0</td>\n",
              "      <td>0</td>\n",
              "      <td>0</td>\n",
              "      <td>0</td>\n",
              "      <td>0</td>\n",
              "      <td>0</td>\n",
              "      <td>0</td>\n",
              "      <td>0</td>\n",
              "      <td>0</td>\n",
              "      <td>0</td>\n",
              "      <td>...</td>\n",
              "      <td>279</td>\n",
              "      <td>65</td>\n",
              "      <td>4874</td>\n",
              "      <td>2412</td>\n",
              "      <td>4875</td>\n",
              "      <td>18</td>\n",
              "      <td>65</td>\n",
              "      <td>False</td>\n",
              "      <td>False</td>\n",
              "      <td>True</td>\n",
              "    </tr>\n",
              "    <tr>\n",
              "      <th>1</th>\n",
              "      <td>0</td>\n",
              "      <td>0</td>\n",
              "      <td>0</td>\n",
              "      <td>0</td>\n",
              "      <td>0</td>\n",
              "      <td>0</td>\n",
              "      <td>0</td>\n",
              "      <td>0</td>\n",
              "      <td>0</td>\n",
              "      <td>0</td>\n",
              "      <td>...</td>\n",
              "      <td>23</td>\n",
              "      <td>2142</td>\n",
              "      <td>1028</td>\n",
              "      <td>2143</td>\n",
              "      <td>4876</td>\n",
              "      <td>18</td>\n",
              "      <td>2833</td>\n",
              "      <td>True</td>\n",
              "      <td>False</td>\n",
              "      <td>False</td>\n",
              "    </tr>\n",
              "    <tr>\n",
              "      <th>2</th>\n",
              "      <td>0</td>\n",
              "      <td>0</td>\n",
              "      <td>0</td>\n",
              "      <td>0</td>\n",
              "      <td>0</td>\n",
              "      <td>0</td>\n",
              "      <td>0</td>\n",
              "      <td>0</td>\n",
              "      <td>0</td>\n",
              "      <td>0</td>\n",
              "      <td>...</td>\n",
              "      <td>23</td>\n",
              "      <td>14</td>\n",
              "      <td>91</td>\n",
              "      <td>789</td>\n",
              "      <td>442</td>\n",
              "      <td>22</td>\n",
              "      <td>2836</td>\n",
              "      <td>True</td>\n",
              "      <td>False</td>\n",
              "      <td>False</td>\n",
              "    </tr>\n",
              "    <tr>\n",
              "      <th>3</th>\n",
              "      <td>0</td>\n",
              "      <td>0</td>\n",
              "      <td>0</td>\n",
              "      <td>0</td>\n",
              "      <td>0</td>\n",
              "      <td>0</td>\n",
              "      <td>0</td>\n",
              "      <td>0</td>\n",
              "      <td>0</td>\n",
              "      <td>0</td>\n",
              "      <td>...</td>\n",
              "      <td>80</td>\n",
              "      <td>766</td>\n",
              "      <td>19</td>\n",
              "      <td>3532</td>\n",
              "      <td>275</td>\n",
              "      <td>4878</td>\n",
              "      <td>2414</td>\n",
              "      <td>False</td>\n",
              "      <td>False</td>\n",
              "      <td>True</td>\n",
              "    </tr>\n",
              "    <tr>\n",
              "      <th>4</th>\n",
              "      <td>0</td>\n",
              "      <td>0</td>\n",
              "      <td>0</td>\n",
              "      <td>0</td>\n",
              "      <td>0</td>\n",
              "      <td>0</td>\n",
              "      <td>0</td>\n",
              "      <td>0</td>\n",
              "      <td>0</td>\n",
              "      <td>0</td>\n",
              "      <td>...</td>\n",
              "      <td>845</td>\n",
              "      <td>58</td>\n",
              "      <td>989</td>\n",
              "      <td>1946</td>\n",
              "      <td>325</td>\n",
              "      <td>108</td>\n",
              "      <td>956</td>\n",
              "      <td>False</td>\n",
              "      <td>False</td>\n",
              "      <td>True</td>\n",
              "    </tr>\n",
              "    <tr>\n",
              "      <th>...</th>\n",
              "      <td>...</td>\n",
              "      <td>...</td>\n",
              "      <td>...</td>\n",
              "      <td>...</td>\n",
              "      <td>...</td>\n",
              "      <td>...</td>\n",
              "      <td>...</td>\n",
              "      <td>...</td>\n",
              "      <td>...</td>\n",
              "      <td>...</td>\n",
              "      <td>...</td>\n",
              "      <td>...</td>\n",
              "      <td>...</td>\n",
              "      <td>...</td>\n",
              "      <td>...</td>\n",
              "      <td>...</td>\n",
              "      <td>...</td>\n",
              "      <td>...</td>\n",
              "      <td>...</td>\n",
              "      <td>...</td>\n",
              "      <td>...</td>\n",
              "    </tr>\n",
              "    <tr>\n",
              "      <th>4414</th>\n",
              "      <td>0</td>\n",
              "      <td>0</td>\n",
              "      <td>0</td>\n",
              "      <td>0</td>\n",
              "      <td>0</td>\n",
              "      <td>0</td>\n",
              "      <td>0</td>\n",
              "      <td>0</td>\n",
              "      <td>0</td>\n",
              "      <td>0</td>\n",
              "      <td>...</td>\n",
              "      <td>461</td>\n",
              "      <td>141</td>\n",
              "      <td>66</td>\n",
              "      <td>1001</td>\n",
              "      <td>78</td>\n",
              "      <td>43</td>\n",
              "      <td>48</td>\n",
              "      <td>False</td>\n",
              "      <td>False</td>\n",
              "      <td>True</td>\n",
              "    </tr>\n",
              "    <tr>\n",
              "      <th>4415</th>\n",
              "      <td>0</td>\n",
              "      <td>0</td>\n",
              "      <td>0</td>\n",
              "      <td>0</td>\n",
              "      <td>0</td>\n",
              "      <td>0</td>\n",
              "      <td>0</td>\n",
              "      <td>0</td>\n",
              "      <td>0</td>\n",
              "      <td>0</td>\n",
              "      <td>...</td>\n",
              "      <td>40</td>\n",
              "      <td>42</td>\n",
              "      <td>165</td>\n",
              "      <td>14</td>\n",
              "      <td>125</td>\n",
              "      <td>43</td>\n",
              "      <td>354</td>\n",
              "      <td>False</td>\n",
              "      <td>False</td>\n",
              "      <td>True</td>\n",
              "    </tr>\n",
              "    <tr>\n",
              "      <th>4416</th>\n",
              "      <td>0</td>\n",
              "      <td>0</td>\n",
              "      <td>0</td>\n",
              "      <td>0</td>\n",
              "      <td>0</td>\n",
              "      <td>0</td>\n",
              "      <td>0</td>\n",
              "      <td>0</td>\n",
              "      <td>0</td>\n",
              "      <td>0</td>\n",
              "      <td>...</td>\n",
              "      <td>148</td>\n",
              "      <td>187</td>\n",
              "      <td>326</td>\n",
              "      <td>139</td>\n",
              "      <td>187</td>\n",
              "      <td>16</td>\n",
              "      <td>389</td>\n",
              "      <td>False</td>\n",
              "      <td>False</td>\n",
              "      <td>True</td>\n",
              "    </tr>\n",
              "    <tr>\n",
              "      <th>4417</th>\n",
              "      <td>0</td>\n",
              "      <td>0</td>\n",
              "      <td>0</td>\n",
              "      <td>0</td>\n",
              "      <td>0</td>\n",
              "      <td>0</td>\n",
              "      <td>0</td>\n",
              "      <td>0</td>\n",
              "      <td>0</td>\n",
              "      <td>0</td>\n",
              "      <td>...</td>\n",
              "      <td>110</td>\n",
              "      <td>78</td>\n",
              "      <td>352</td>\n",
              "      <td>250</td>\n",
              "      <td>84</td>\n",
              "      <td>1443</td>\n",
              "      <td>163</td>\n",
              "      <td>False</td>\n",
              "      <td>False</td>\n",
              "      <td>True</td>\n",
              "    </tr>\n",
              "    <tr>\n",
              "      <th>4418</th>\n",
              "      <td>0</td>\n",
              "      <td>0</td>\n",
              "      <td>0</td>\n",
              "      <td>0</td>\n",
              "      <td>0</td>\n",
              "      <td>0</td>\n",
              "      <td>0</td>\n",
              "      <td>0</td>\n",
              "      <td>0</td>\n",
              "      <td>0</td>\n",
              "      <td>...</td>\n",
              "      <td>352</td>\n",
              "      <td>48</td>\n",
              "      <td>130</td>\n",
              "      <td>66</td>\n",
              "      <td>90</td>\n",
              "      <td>1894</td>\n",
              "      <td>43</td>\n",
              "      <td>False</td>\n",
              "      <td>False</td>\n",
              "      <td>True</td>\n",
              "    </tr>\n",
              "  </tbody>\n",
              "</table>\n",
              "<p>4419 rows × 93 columns</p>\n",
              "</div>\n",
              "    <div class=\"colab-df-buttons\">\n",
              "\n",
              "  <div class=\"colab-df-container\">\n",
              "    <button class=\"colab-df-convert\" onclick=\"convertToInteractive('df-672d0125-c296-463c-bd20-e731c3fe7264')\"\n",
              "            title=\"Convert this dataframe to an interactive table.\"\n",
              "            style=\"display:none;\">\n",
              "\n",
              "  <svg xmlns=\"http://www.w3.org/2000/svg\" height=\"24px\" viewBox=\"0 -960 960 960\">\n",
              "    <path d=\"M120-120v-720h720v720H120Zm60-500h600v-160H180v160Zm220 220h160v-160H400v160Zm0 220h160v-160H400v160ZM180-400h160v-160H180v160Zm440 0h160v-160H620v160ZM180-180h160v-160H180v160Zm440 0h160v-160H620v160Z\"/>\n",
              "  </svg>\n",
              "    </button>\n",
              "\n",
              "  <style>\n",
              "    .colab-df-container {\n",
              "      display:flex;\n",
              "      gap: 12px;\n",
              "    }\n",
              "\n",
              "    .colab-df-convert {\n",
              "      background-color: #E8F0FE;\n",
              "      border: none;\n",
              "      border-radius: 50%;\n",
              "      cursor: pointer;\n",
              "      display: none;\n",
              "      fill: #1967D2;\n",
              "      height: 32px;\n",
              "      padding: 0 0 0 0;\n",
              "      width: 32px;\n",
              "    }\n",
              "\n",
              "    .colab-df-convert:hover {\n",
              "      background-color: #E2EBFA;\n",
              "      box-shadow: 0px 1px 2px rgba(60, 64, 67, 0.3), 0px 1px 3px 1px rgba(60, 64, 67, 0.15);\n",
              "      fill: #174EA6;\n",
              "    }\n",
              "\n",
              "    .colab-df-buttons div {\n",
              "      margin-bottom: 4px;\n",
              "    }\n",
              "\n",
              "    [theme=dark] .colab-df-convert {\n",
              "      background-color: #3B4455;\n",
              "      fill: #D2E3FC;\n",
              "    }\n",
              "\n",
              "    [theme=dark] .colab-df-convert:hover {\n",
              "      background-color: #434B5C;\n",
              "      box-shadow: 0px 1px 3px 1px rgba(0, 0, 0, 0.15);\n",
              "      filter: drop-shadow(0px 1px 2px rgba(0, 0, 0, 0.3));\n",
              "      fill: #FFFFFF;\n",
              "    }\n",
              "  </style>\n",
              "\n",
              "    <script>\n",
              "      const buttonEl =\n",
              "        document.querySelector('#df-672d0125-c296-463c-bd20-e731c3fe7264 button.colab-df-convert');\n",
              "      buttonEl.style.display =\n",
              "        google.colab.kernel.accessAllowed ? 'block' : 'none';\n",
              "\n",
              "      async function convertToInteractive(key) {\n",
              "        const element = document.querySelector('#df-672d0125-c296-463c-bd20-e731c3fe7264');\n",
              "        const dataTable =\n",
              "          await google.colab.kernel.invokeFunction('convertToInteractive',\n",
              "                                                    [key], {});\n",
              "        if (!dataTable) return;\n",
              "\n",
              "        const docLinkHtml = 'Like what you see? Visit the ' +\n",
              "          '<a target=\"_blank\" href=https://colab.research.google.com/notebooks/data_table.ipynb>data table notebook</a>'\n",
              "          + ' to learn more about interactive tables.';\n",
              "        element.innerHTML = '';\n",
              "        dataTable['output_type'] = 'display_data';\n",
              "        await google.colab.output.renderOutput(dataTable, element);\n",
              "        const docLink = document.createElement('div');\n",
              "        docLink.innerHTML = docLinkHtml;\n",
              "        element.appendChild(docLink);\n",
              "      }\n",
              "    </script>\n",
              "  </div>\n",
              "\n",
              "\n",
              "<div id=\"df-51822873-6a8c-4eca-8b08-073dd5d0f305\">\n",
              "  <button class=\"colab-df-quickchart\" onclick=\"quickchart('df-51822873-6a8c-4eca-8b08-073dd5d0f305')\"\n",
              "            title=\"Suggest charts\"\n",
              "            style=\"display:none;\">\n",
              "\n",
              "<svg xmlns=\"http://www.w3.org/2000/svg\" height=\"24px\"viewBox=\"0 0 24 24\"\n",
              "     width=\"24px\">\n",
              "    <g>\n",
              "        <path d=\"M19 3H5c-1.1 0-2 .9-2 2v14c0 1.1.9 2 2 2h14c1.1 0 2-.9 2-2V5c0-1.1-.9-2-2-2zM9 17H7v-7h2v7zm4 0h-2V7h2v10zm4 0h-2v-4h2v4z\"/>\n",
              "    </g>\n",
              "</svg>\n",
              "  </button>\n",
              "\n",
              "<style>\n",
              "  .colab-df-quickchart {\n",
              "      --bg-color: #E8F0FE;\n",
              "      --fill-color: #1967D2;\n",
              "      --hover-bg-color: #E2EBFA;\n",
              "      --hover-fill-color: #174EA6;\n",
              "      --disabled-fill-color: #AAA;\n",
              "      --disabled-bg-color: #DDD;\n",
              "  }\n",
              "\n",
              "  [theme=dark] .colab-df-quickchart {\n",
              "      --bg-color: #3B4455;\n",
              "      --fill-color: #D2E3FC;\n",
              "      --hover-bg-color: #434B5C;\n",
              "      --hover-fill-color: #FFFFFF;\n",
              "      --disabled-bg-color: #3B4455;\n",
              "      --disabled-fill-color: #666;\n",
              "  }\n",
              "\n",
              "  .colab-df-quickchart {\n",
              "    background-color: var(--bg-color);\n",
              "    border: none;\n",
              "    border-radius: 50%;\n",
              "    cursor: pointer;\n",
              "    display: none;\n",
              "    fill: var(--fill-color);\n",
              "    height: 32px;\n",
              "    padding: 0;\n",
              "    width: 32px;\n",
              "  }\n",
              "\n",
              "  .colab-df-quickchart:hover {\n",
              "    background-color: var(--hover-bg-color);\n",
              "    box-shadow: 0 1px 2px rgba(60, 64, 67, 0.3), 0 1px 3px 1px rgba(60, 64, 67, 0.15);\n",
              "    fill: var(--button-hover-fill-color);\n",
              "  }\n",
              "\n",
              "  .colab-df-quickchart-complete:disabled,\n",
              "  .colab-df-quickchart-complete:disabled:hover {\n",
              "    background-color: var(--disabled-bg-color);\n",
              "    fill: var(--disabled-fill-color);\n",
              "    box-shadow: none;\n",
              "  }\n",
              "\n",
              "  .colab-df-spinner {\n",
              "    border: 2px solid var(--fill-color);\n",
              "    border-color: transparent;\n",
              "    border-bottom-color: var(--fill-color);\n",
              "    animation:\n",
              "      spin 1s steps(1) infinite;\n",
              "  }\n",
              "\n",
              "  @keyframes spin {\n",
              "    0% {\n",
              "      border-color: transparent;\n",
              "      border-bottom-color: var(--fill-color);\n",
              "      border-left-color: var(--fill-color);\n",
              "    }\n",
              "    20% {\n",
              "      border-color: transparent;\n",
              "      border-left-color: var(--fill-color);\n",
              "      border-top-color: var(--fill-color);\n",
              "    }\n",
              "    30% {\n",
              "      border-color: transparent;\n",
              "      border-left-color: var(--fill-color);\n",
              "      border-top-color: var(--fill-color);\n",
              "      border-right-color: var(--fill-color);\n",
              "    }\n",
              "    40% {\n",
              "      border-color: transparent;\n",
              "      border-right-color: var(--fill-color);\n",
              "      border-top-color: var(--fill-color);\n",
              "    }\n",
              "    60% {\n",
              "      border-color: transparent;\n",
              "      border-right-color: var(--fill-color);\n",
              "    }\n",
              "    80% {\n",
              "      border-color: transparent;\n",
              "      border-right-color: var(--fill-color);\n",
              "      border-bottom-color: var(--fill-color);\n",
              "    }\n",
              "    90% {\n",
              "      border-color: transparent;\n",
              "      border-bottom-color: var(--fill-color);\n",
              "    }\n",
              "  }\n",
              "</style>\n",
              "\n",
              "  <script>\n",
              "    async function quickchart(key) {\n",
              "      const quickchartButtonEl =\n",
              "        document.querySelector('#' + key + ' button');\n",
              "      quickchartButtonEl.disabled = true;  // To prevent multiple clicks.\n",
              "      quickchartButtonEl.classList.add('colab-df-spinner');\n",
              "      try {\n",
              "        const charts = await google.colab.kernel.invokeFunction(\n",
              "            'suggestCharts', [key], {});\n",
              "      } catch (error) {\n",
              "        console.error('Error during call to suggestCharts:', error);\n",
              "      }\n",
              "      quickchartButtonEl.classList.remove('colab-df-spinner');\n",
              "      quickchartButtonEl.classList.add('colab-df-quickchart-complete');\n",
              "    }\n",
              "    (() => {\n",
              "      let quickchartButtonEl =\n",
              "        document.querySelector('#df-51822873-6a8c-4eca-8b08-073dd5d0f305 button');\n",
              "      quickchartButtonEl.style.display =\n",
              "        google.colab.kernel.accessAllowed ? 'block' : 'none';\n",
              "    })();\n",
              "  </script>\n",
              "</div>\n",
              "\n",
              "  <div id=\"id_f919b603-8b65-4043-8d06-bb16820fd02c\">\n",
              "    <style>\n",
              "      .colab-df-generate {\n",
              "        background-color: #E8F0FE;\n",
              "        border: none;\n",
              "        border-radius: 50%;\n",
              "        cursor: pointer;\n",
              "        display: none;\n",
              "        fill: #1967D2;\n",
              "        height: 32px;\n",
              "        padding: 0 0 0 0;\n",
              "        width: 32px;\n",
              "      }\n",
              "\n",
              "      .colab-df-generate:hover {\n",
              "        background-color: #E2EBFA;\n",
              "        box-shadow: 0px 1px 2px rgba(60, 64, 67, 0.3), 0px 1px 3px 1px rgba(60, 64, 67, 0.15);\n",
              "        fill: #174EA6;\n",
              "      }\n",
              "\n",
              "      [theme=dark] .colab-df-generate {\n",
              "        background-color: #3B4455;\n",
              "        fill: #D2E3FC;\n",
              "      }\n",
              "\n",
              "      [theme=dark] .colab-df-generate:hover {\n",
              "        background-color: #434B5C;\n",
              "        box-shadow: 0px 1px 3px 1px rgba(0, 0, 0, 0.15);\n",
              "        filter: drop-shadow(0px 1px 2px rgba(0, 0, 0, 0.3));\n",
              "        fill: #FFFFFF;\n",
              "      }\n",
              "    </style>\n",
              "    <button class=\"colab-df-generate\" onclick=\"generateWithVariable('df_clean')\"\n",
              "            title=\"Generate code using this dataframe.\"\n",
              "            style=\"display:none;\">\n",
              "\n",
              "  <svg xmlns=\"http://www.w3.org/2000/svg\" height=\"24px\"viewBox=\"0 0 24 24\"\n",
              "       width=\"24px\">\n",
              "    <path d=\"M7,19H8.4L18.45,9,17,7.55,7,17.6ZM5,21V16.75L18.45,3.32a2,2,0,0,1,2.83,0l1.4,1.43a1.91,1.91,0,0,1,.58,1.4,1.91,1.91,0,0,1-.58,1.4L9.25,21ZM18.45,9,17,7.55Zm-12,3A5.31,5.31,0,0,0,4.9,8.1,5.31,5.31,0,0,0,1,6.5,5.31,5.31,0,0,0,4.9,4.9,5.31,5.31,0,0,0,6.5,1,5.31,5.31,0,0,0,8.1,4.9,5.31,5.31,0,0,0,12,6.5,5.46,5.46,0,0,0,6.5,12Z\"/>\n",
              "  </svg>\n",
              "    </button>\n",
              "    <script>\n",
              "      (() => {\n",
              "      const buttonEl =\n",
              "        document.querySelector('#id_f919b603-8b65-4043-8d06-bb16820fd02c button.colab-df-generate');\n",
              "      buttonEl.style.display =\n",
              "        google.colab.kernel.accessAllowed ? 'block' : 'none';\n",
              "\n",
              "      buttonEl.onclick = () => {\n",
              "        google.colab.notebook.generateWithVariable('df_clean');\n",
              "      }\n",
              "      })();\n",
              "    </script>\n",
              "  </div>\n",
              "\n",
              "    </div>\n",
              "  </div>\n"
            ],
            "application/vnd.google.colaboratory.intrinsic+json": {
              "type": "dataframe",
              "variable_name": "df_clean"
            }
          },
          "metadata": {},
          "execution_count": 39
        }
      ],
      "source": [
        "# Concatenate X and y into one DataFrame\n",
        "df_sequences = pd.DataFrame(X)\n",
        "df_clean = pd.concat([df_sequences, df_encoded.reset_index(drop=True)], axis=1)\n",
        "\n",
        "df_clean"
      ]
    },
    {
      "cell_type": "code",
      "execution_count": null,
      "id": "8d07e8e5",
      "metadata": {
        "id": "8d07e8e5",
        "scrolled": true
      },
      "outputs": [],
      "source": [
        "# Store the cleaned dataset\n",
        "df_clean.to_json('clean_reviews.json')"
      ]
    },
    {
      "cell_type": "markdown",
      "id": "f196d485",
      "metadata": {
        "id": "f196d485"
      },
      "source": [
        "\n",
        "\n",
        "##  Network Architecture<a id='part3'/>\n",
        "---"
      ]
    },
    {
      "cell_type": "code",
      "execution_count": null,
      "id": "8a1dabc8",
      "metadata": {
        "id": "8a1dabc8"
      },
      "outputs": [],
      "source": [
        "# Initialize a Sequential model object\n",
        "model = Sequential([\n",
        "    Embedding(input_dim=len(word_index), output_dim=200, input_length=max_seq),\n",
        "    LSTM(128, return_sequences=True),\n",
        "    Dropout(0.5),\n",
        "    LSTM(128),\n",
        "    Dense(64, activation='relu',\n",
        "          kernel_regularizer=regularizers.l2(0.01),\n",
        "          activity_regularizer=regularizers.l1(0.01)),\n",
        "    Dense(3, activation='softmax')  # number of classes (sentiment categories)\n",
        "])"
      ]
    },
    {
      "cell_type": "code",
      "execution_count": null,
      "id": "c7f49257",
      "metadata": {
        "id": "c7f49257"
      },
      "outputs": [],
      "source": [
        "model.compile(loss='categorical_crossentropy', optimizer='adam', metrics=['accuracy'])"
      ]
    },
    {
      "cell_type": "code",
      "execution_count": null,
      "id": "a1a2fd3c",
      "metadata": {
        "colab": {
          "base_uri": "https://localhost:8080/",
          "height": 321
        },
        "id": "a1a2fd3c",
        "outputId": "e45b3bff-45d8-49f0-d40a-838c37340ca6"
      },
      "outputs": [
        {
          "output_type": "display_data",
          "data": {
            "text/plain": [
              "\u001b[1mModel: \"sequential_2\"\u001b[0m\n"
            ],
            "text/html": [
              "<pre style=\"white-space:pre;overflow-x:auto;line-height:normal;font-family:Menlo,'DejaVu Sans Mono',consolas,'Courier New',monospace\"><span style=\"font-weight: bold\">Model: \"sequential_2\"</span>\n",
              "</pre>\n"
            ]
          },
          "metadata": {}
        },
        {
          "output_type": "display_data",
          "data": {
            "text/plain": [
              "┏━━━━━━━━━━━━━━━━━━━━━━━━━━━━━━━━━━━━━━┳━━━━━━━━━━━━━━━━━━━━━━━━━━━━━┳━━━━━━━━━━━━━━━━━┓\n",
              "┃\u001b[1m \u001b[0m\u001b[1mLayer (type)                        \u001b[0m\u001b[1m \u001b[0m┃\u001b[1m \u001b[0m\u001b[1mOutput Shape               \u001b[0m\u001b[1m \u001b[0m┃\u001b[1m \u001b[0m\u001b[1m        Param #\u001b[0m\u001b[1m \u001b[0m┃\n",
              "┡━━━━━━━━━━━━━━━━━━━━━━━━━━━━━━━━━━━━━━╇━━━━━━━━━━━━━━━━━━━━━━━━━━━━━╇━━━━━━━━━━━━━━━━━┩\n",
              "│ embedding_2 (\u001b[38;5;33mEmbedding\u001b[0m)              │ ?                           │     \u001b[38;5;34m0\u001b[0m (unbuilt) │\n",
              "├──────────────────────────────────────┼─────────────────────────────┼─────────────────┤\n",
              "│ lstm_3 (\u001b[38;5;33mLSTM\u001b[0m)                        │ ?                           │     \u001b[38;5;34m0\u001b[0m (unbuilt) │\n",
              "├──────────────────────────────────────┼─────────────────────────────┼─────────────────┤\n",
              "│ dropout_1 (\u001b[38;5;33mDropout\u001b[0m)                  │ ?                           │     \u001b[38;5;34m0\u001b[0m (unbuilt) │\n",
              "├──────────────────────────────────────┼─────────────────────────────┼─────────────────┤\n",
              "│ lstm_4 (\u001b[38;5;33mLSTM\u001b[0m)                        │ ?                           │     \u001b[38;5;34m0\u001b[0m (unbuilt) │\n",
              "├──────────────────────────────────────┼─────────────────────────────┼─────────────────┤\n",
              "│ dense_3 (\u001b[38;5;33mDense\u001b[0m)                      │ ?                           │     \u001b[38;5;34m0\u001b[0m (unbuilt) │\n",
              "├──────────────────────────────────────┼─────────────────────────────┼─────────────────┤\n",
              "│ dense_4 (\u001b[38;5;33mDense\u001b[0m)                      │ ?                           │     \u001b[38;5;34m0\u001b[0m (unbuilt) │\n",
              "└──────────────────────────────────────┴─────────────────────────────┴─────────────────┘\n"
            ],
            "text/html": [
              "<pre style=\"white-space:pre;overflow-x:auto;line-height:normal;font-family:Menlo,'DejaVu Sans Mono',consolas,'Courier New',monospace\">┏━━━━━━━━━━━━━━━━━━━━━━━━━━━━━━━━━━━━━━┳━━━━━━━━━━━━━━━━━━━━━━━━━━━━━┳━━━━━━━━━━━━━━━━━┓\n",
              "┃<span style=\"font-weight: bold\"> Layer (type)                         </span>┃<span style=\"font-weight: bold\"> Output Shape                </span>┃<span style=\"font-weight: bold\">         Param # </span>┃\n",
              "┡━━━━━━━━━━━━━━━━━━━━━━━━━━━━━━━━━━━━━━╇━━━━━━━━━━━━━━━━━━━━━━━━━━━━━╇━━━━━━━━━━━━━━━━━┩\n",
              "│ embedding_2 (<span style=\"color: #0087ff; text-decoration-color: #0087ff\">Embedding</span>)              │ ?                           │     <span style=\"color: #00af00; text-decoration-color: #00af00\">0</span> (unbuilt) │\n",
              "├──────────────────────────────────────┼─────────────────────────────┼─────────────────┤\n",
              "│ lstm_3 (<span style=\"color: #0087ff; text-decoration-color: #0087ff\">LSTM</span>)                        │ ?                           │     <span style=\"color: #00af00; text-decoration-color: #00af00\">0</span> (unbuilt) │\n",
              "├──────────────────────────────────────┼─────────────────────────────┼─────────────────┤\n",
              "│ dropout_1 (<span style=\"color: #0087ff; text-decoration-color: #0087ff\">Dropout</span>)                  │ ?                           │     <span style=\"color: #00af00; text-decoration-color: #00af00\">0</span> (unbuilt) │\n",
              "├──────────────────────────────────────┼─────────────────────────────┼─────────────────┤\n",
              "│ lstm_4 (<span style=\"color: #0087ff; text-decoration-color: #0087ff\">LSTM</span>)                        │ ?                           │     <span style=\"color: #00af00; text-decoration-color: #00af00\">0</span> (unbuilt) │\n",
              "├──────────────────────────────────────┼─────────────────────────────┼─────────────────┤\n",
              "│ dense_3 (<span style=\"color: #0087ff; text-decoration-color: #0087ff\">Dense</span>)                      │ ?                           │     <span style=\"color: #00af00; text-decoration-color: #00af00\">0</span> (unbuilt) │\n",
              "├──────────────────────────────────────┼─────────────────────────────┼─────────────────┤\n",
              "│ dense_4 (<span style=\"color: #0087ff; text-decoration-color: #0087ff\">Dense</span>)                      │ ?                           │     <span style=\"color: #00af00; text-decoration-color: #00af00\">0</span> (unbuilt) │\n",
              "└──────────────────────────────────────┴─────────────────────────────┴─────────────────┘\n",
              "</pre>\n"
            ]
          },
          "metadata": {}
        },
        {
          "output_type": "display_data",
          "data": {
            "text/plain": [
              "\u001b[1m Total params: \u001b[0m\u001b[38;5;34m0\u001b[0m (0.00 B)\n"
            ],
            "text/html": [
              "<pre style=\"white-space:pre;overflow-x:auto;line-height:normal;font-family:Menlo,'DejaVu Sans Mono',consolas,'Courier New',monospace\"><span style=\"font-weight: bold\"> Total params: </span><span style=\"color: #00af00; text-decoration-color: #00af00\">0</span> (0.00 B)\n",
              "</pre>\n"
            ]
          },
          "metadata": {}
        },
        {
          "output_type": "display_data",
          "data": {
            "text/plain": [
              "\u001b[1m Trainable params: \u001b[0m\u001b[38;5;34m0\u001b[0m (0.00 B)\n"
            ],
            "text/html": [
              "<pre style=\"white-space:pre;overflow-x:auto;line-height:normal;font-family:Menlo,'DejaVu Sans Mono',consolas,'Courier New',monospace\"><span style=\"font-weight: bold\"> Trainable params: </span><span style=\"color: #00af00; text-decoration-color: #00af00\">0</span> (0.00 B)\n",
              "</pre>\n"
            ]
          },
          "metadata": {}
        },
        {
          "output_type": "display_data",
          "data": {
            "text/plain": [
              "\u001b[1m Non-trainable params: \u001b[0m\u001b[38;5;34m0\u001b[0m (0.00 B)\n"
            ],
            "text/html": [
              "<pre style=\"white-space:pre;overflow-x:auto;line-height:normal;font-family:Menlo,'DejaVu Sans Mono',consolas,'Courier New',monospace\"><span style=\"font-weight: bold\"> Non-trainable params: </span><span style=\"color: #00af00; text-decoration-color: #00af00\">0</span> (0.00 B)\n",
              "</pre>\n"
            ]
          },
          "metadata": {}
        }
      ],
      "source": [
        "model.summary()"
      ]
    },
    {
      "cell_type": "code",
      "execution_count": null,
      "id": "9c3a05ee",
      "metadata": {
        "id": "9c3a05ee"
      },
      "outputs": [],
      "source": [
        "# Define validation set and convert to Tensor\n",
        "stop = int(len(X_test)/2)\n",
        "\n",
        "X_train = convert_to_tensor(X_train)\n",
        "X_val = convert_to_tensor(X_test[:stop])\n",
        "X_test = convert_to_tensor(X_test[stop:])\n",
        "\n",
        "y_train = convert_to_tensor(y_train)\n",
        "y_val = convert_to_tensor(y_test[:stop])\n",
        "y_test = convert_to_tensor(y_test[stop:])"
      ]
    },
    {
      "cell_type": "markdown",
      "id": "915956b7",
      "metadata": {
        "id": "915956b7"
      },
      "source": [
        "\n",
        "\n",
        "##  Model Evaluation<a id='part4'/>\n",
        "---"
      ]
    },
    {
      "cell_type": "code",
      "execution_count": null,
      "id": "d6bfc846",
      "metadata": {
        "id": "d6bfc846"
      },
      "outputs": [],
      "source": [
        "# Create early stopping object\n",
        "early_stopping = EarlyStopping(monitor='val_loss', min_delta=0, patience=3, verbose=1, mode='auto')"
      ]
    },
    {
      "cell_type": "code",
      "source": [
        "import tensorflow as tf\n",
        "print(\"GPUs available: \", tf.config.list_physical_devices('GPU'))"
      ],
      "metadata": {
        "colab": {
          "base_uri": "https://localhost:8080/"
        },
        "id": "8eSNagFg04DP",
        "outputId": "7babf091-08b7-4a1f-868b-a86161f24057"
      },
      "id": "8eSNagFg04DP",
      "execution_count": null,
      "outputs": [
        {
          "output_type": "stream",
          "name": "stdout",
          "text": [
            "GPUs available:  [PhysicalDevice(name='/physical_device:GPU:0', device_type='GPU')]\n"
          ]
        }
      ]
    },
    {
      "cell_type": "code",
      "execution_count": null,
      "id": "Q_2dM_8qik2s",
      "metadata": {
        "id": "Q_2dM_8qik2s",
        "colab": {
          "base_uri": "https://localhost:8080/"
        },
        "outputId": "4325dfc7-9815-4b9a-daae-579f76d0747c"
      },
      "outputs": [
        {
          "output_type": "stream",
          "name": "stdout",
          "text": [
            "Physical devices cannot be modified after being initialized\n"
          ]
        }
      ],
      "source": [
        "gpus = tf.config.list_physical_devices('GPU')\n",
        "if gpus:\n",
        "    try:\n",
        "        for gpu in gpus:\n",
        "            tf.config.experimental.set_memory_growth(gpu, True)\n",
        "    except RuntimeError as e:\n",
        "        print(e)\n"
      ]
    },
    {
      "cell_type": "code",
      "execution_count": null,
      "id": "7e492bb4",
      "metadata": {
        "colab": {
          "base_uri": "https://localhost:8080/"
        },
        "id": "7e492bb4",
        "outputId": "41ca03c8-9e93-4117-a94d-7eb5cca961e0"
      },
      "outputs": [
        {
          "output_type": "stream",
          "name": "stdout",
          "text": [
            "Epoch 1/100\n",
            "\u001b[1m3268/3268\u001b[0m \u001b[32m━━━━━━━━━━━━━━━━━━━━\u001b[0m\u001b[37m\u001b[0m \u001b[1m69s\u001b[0m 20ms/step - accuracy: 0.8188 - loss: 0.8350 - val_accuracy: 0.8203 - val_loss: 0.5761\n",
            "Epoch 2/100\n",
            "\u001b[1m3268/3268\u001b[0m \u001b[32m━━━━━━━━━━━━━━━━━━━━\u001b[0m\u001b[37m\u001b[0m \u001b[1m77s\u001b[0m 19ms/step - accuracy: 0.8235 - loss: 0.5704 - val_accuracy: 0.8203 - val_loss: 0.5750\n",
            "Epoch 3/100\n",
            "\u001b[1m3268/3268\u001b[0m \u001b[32m━━━━━━━━━━━━━━━━━━━━\u001b[0m\u001b[37m\u001b[0m \u001b[1m84s\u001b[0m 19ms/step - accuracy: 0.8227 - loss: 0.5713 - val_accuracy: 0.8203 - val_loss: 0.5749\n",
            "Epoch 4/100\n",
            "\u001b[1m3268/3268\u001b[0m \u001b[32m━━━━━━━━━━━━━━━━━━━━\u001b[0m\u001b[37m\u001b[0m \u001b[1m83s\u001b[0m 19ms/step - accuracy: 0.8227 - loss: 0.5721 - val_accuracy: 0.8203 - val_loss: 0.5750\n",
            "Epoch 5/100\n",
            "\u001b[1m3268/3268\u001b[0m \u001b[32m━━━━━━━━━━━━━━━━━━━━\u001b[0m\u001b[37m\u001b[0m \u001b[1m81s\u001b[0m 19ms/step - accuracy: 0.8212 - loss: 0.5750 - val_accuracy: 0.8203 - val_loss: 0.5749\n",
            "Epoch 6/100\n",
            "\u001b[1m3268/3268\u001b[0m \u001b[32m━━━━━━━━━━━━━━━━━━━━\u001b[0m\u001b[37m\u001b[0m \u001b[1m83s\u001b[0m 19ms/step - accuracy: 0.8232 - loss: 0.5708 - val_accuracy: 0.8203 - val_loss: 0.5750\n",
            "Epoch 7/100\n",
            "\u001b[1m3268/3268\u001b[0m \u001b[32m━━━━━━━━━━━━━━━━━━━━\u001b[0m\u001b[37m\u001b[0m \u001b[1m80s\u001b[0m 19ms/step - accuracy: 0.8213 - loss: 0.5755 - val_accuracy: 0.8203 - val_loss: 0.5749\n",
            "Epoch 8/100\n",
            "\u001b[1m3268/3268\u001b[0m \u001b[32m━━━━━━━━━━━━━━━━━━━━\u001b[0m\u001b[37m\u001b[0m \u001b[1m85s\u001b[0m 20ms/step - accuracy: 0.8209 - loss: 0.5758 - val_accuracy: 0.8203 - val_loss: 0.5749\n",
            "Epoch 8: early stopping\n"
          ]
        }
      ],
      "source": [
        "# Train the model on GPU\n",
        "with tf.device('/GPU:0'):\n",
        "    history = model.fit(\n",
        "        X_train, y_train,\n",
        "        epochs=100,  # Set the number of epochs\n",
        "        batch_size=32,\n",
        "        validation_data=(X_val, y_val),\n",
        "        callbacks=[early_stopping]\n",
        "    )\n"
      ]
    },
    {
      "cell_type": "code",
      "source": [
        "from sklearn.metrics import precision_score, recall_score, f1_score # Importing necessary functions\n",
        "\n",
        "\n",
        "# Evaluate model on test data\n",
        "score = model.evaluate(X_test, y_test, verbose=1)\n",
        "\n",
        "# Calculate precision, recall, F1 score\n",
        "y_pred = model.predict(X_test)\n",
        "y_pred = np.argmax(y_pred, axis=1)\n",
        "y_test_argmax = np.argmax(y_test, axis=1)\n",
        "\n",
        "print('Precision:', precision_score(y_test_argmax, y_pred, average='weighted'))\n",
        "print('Recall:', recall_score(y_test_argmax, y_pred, average='weighted'))\n",
        "print('F1 score:', f1_score(y_test_argmax, y_pred, average='weighted'))"
      ],
      "metadata": {
        "colab": {
          "base_uri": "https://localhost:8080/"
        },
        "id": "rvgdRq1Q4Ka8",
        "outputId": "57d1382b-9433-4359-b9dc-68f704403e0e"
      },
      "id": "rvgdRq1Q4Ka8",
      "execution_count": null,
      "outputs": [
        {
          "output_type": "stream",
          "name": "stdout",
          "text": [
            "\u001b[1m701/701\u001b[0m \u001b[32m━━━━━━━━━━━━━━━━━━━━\u001b[0m\u001b[37m\u001b[0m \u001b[1m5s\u001b[0m 6ms/step - accuracy: 0.8207 - loss: 0.5768\n"
          ]
        },
        {
          "output_type": "stream",
          "name": "stderr",
          "text": [
            "WARNING:tensorflow:5 out of the last 21 calls to <function TensorFlowTrainer.make_predict_function.<locals>.one_step_on_data_distributed at 0x7c5f1c4c5c60> triggered tf.function retracing. Tracing is expensive and the excessive number of tracings could be due to (1) creating @tf.function repeatedly in a loop, (2) passing tensors with different shapes, (3) passing Python objects instead of tensors. For (1), please define your @tf.function outside of the loop. For (2), @tf.function has reduce_retracing=True option that can avoid unnecessary retracing. For (3), please refer to https://www.tensorflow.org/guide/function#controlling_retracing and https://www.tensorflow.org/api_docs/python/tf/function for  more details.\n"
          ]
        },
        {
          "output_type": "stream",
          "name": "stdout",
          "text": [
            "\u001b[1m701/701\u001b[0m \u001b[32m━━━━━━━━━━━━━━━━━━━━\u001b[0m\u001b[37m\u001b[0m \u001b[1m3s\u001b[0m 4ms/step\n",
            "Precision: 0.6760363368742606\n",
            "Recall: 0.8222142889017805\n",
            "F1 score: 0.7419943318320666\n"
          ]
        }
      ]
    },
    {
      "cell_type": "code",
      "source": [
        "# Evaluate the model on the test data\n",
        "print('Evaluate on test data')\n",
        "test_results = model.evaluate(X_test, y_test, batch_size=32)\n",
        "print('Test loss, Test accuracy:', test_results)"
      ],
      "metadata": {
        "colab": {
          "base_uri": "https://localhost:8080/"
        },
        "id": "ASiLZ4awFoDO",
        "outputId": "7b006ba7-59f9-401a-e863-45fe2484cec3"
      },
      "id": "ASiLZ4awFoDO",
      "execution_count": null,
      "outputs": [
        {
          "output_type": "stream",
          "name": "stdout",
          "text": [
            "Evaluate on test data\n",
            "\u001b[1m701/701\u001b[0m \u001b[32m━━━━━━━━━━━━━━━━━━━━\u001b[0m\u001b[37m\u001b[0m \u001b[1m3s\u001b[0m 5ms/step - accuracy: 0.8207 - loss: 0.5768\n",
            "Test loss, Test accuracy: [0.5713743567466736, 0.8222143054008484]\n"
          ]
        }
      ]
    },
    {
      "cell_type": "code",
      "execution_count": null,
      "id": "4f1d86da",
      "metadata": {
        "colab": {
          "base_uri": "https://localhost:8080/",
          "height": 300
        },
        "id": "4f1d86da",
        "outputId": "24a5f4df-2c06-4173-8c5f-0d3280ad3363"
      },
      "outputs": [
        {
          "output_type": "execute_result",
          "data": {
            "text/plain": [
              "   accuracy      loss  val_accuracy  val_loss\n",
              "0  0.821518  0.665791      0.820332  0.576090\n",
              "1  0.821815  0.574048      0.820332  0.574988\n",
              "2  0.821815  0.573947      0.820332  0.574922\n",
              "3  0.821815  0.573958      0.820332  0.574970\n",
              "4  0.821815  0.573963      0.820332  0.574917\n",
              "5  0.821815  0.573944      0.820332  0.574964\n",
              "6  0.821815  0.573951      0.820332  0.574922\n",
              "7  0.821815  0.573961      0.820332  0.574921"
            ],
            "text/html": [
              "\n",
              "  <div id=\"df-ee82321b-4250-4087-aeba-126321809224\" class=\"colab-df-container\">\n",
              "    <div>\n",
              "<style scoped>\n",
              "    .dataframe tbody tr th:only-of-type {\n",
              "        vertical-align: middle;\n",
              "    }\n",
              "\n",
              "    .dataframe tbody tr th {\n",
              "        vertical-align: top;\n",
              "    }\n",
              "\n",
              "    .dataframe thead th {\n",
              "        text-align: right;\n",
              "    }\n",
              "</style>\n",
              "<table border=\"1\" class=\"dataframe\">\n",
              "  <thead>\n",
              "    <tr style=\"text-align: right;\">\n",
              "      <th></th>\n",
              "      <th>accuracy</th>\n",
              "      <th>loss</th>\n",
              "      <th>val_accuracy</th>\n",
              "      <th>val_loss</th>\n",
              "    </tr>\n",
              "  </thead>\n",
              "  <tbody>\n",
              "    <tr>\n",
              "      <th>0</th>\n",
              "      <td>0.821518</td>\n",
              "      <td>0.665791</td>\n",
              "      <td>0.820332</td>\n",
              "      <td>0.576090</td>\n",
              "    </tr>\n",
              "    <tr>\n",
              "      <th>1</th>\n",
              "      <td>0.821815</td>\n",
              "      <td>0.574048</td>\n",
              "      <td>0.820332</td>\n",
              "      <td>0.574988</td>\n",
              "    </tr>\n",
              "    <tr>\n",
              "      <th>2</th>\n",
              "      <td>0.821815</td>\n",
              "      <td>0.573947</td>\n",
              "      <td>0.820332</td>\n",
              "      <td>0.574922</td>\n",
              "    </tr>\n",
              "    <tr>\n",
              "      <th>3</th>\n",
              "      <td>0.821815</td>\n",
              "      <td>0.573958</td>\n",
              "      <td>0.820332</td>\n",
              "      <td>0.574970</td>\n",
              "    </tr>\n",
              "    <tr>\n",
              "      <th>4</th>\n",
              "      <td>0.821815</td>\n",
              "      <td>0.573963</td>\n",
              "      <td>0.820332</td>\n",
              "      <td>0.574917</td>\n",
              "    </tr>\n",
              "    <tr>\n",
              "      <th>5</th>\n",
              "      <td>0.821815</td>\n",
              "      <td>0.573944</td>\n",
              "      <td>0.820332</td>\n",
              "      <td>0.574964</td>\n",
              "    </tr>\n",
              "    <tr>\n",
              "      <th>6</th>\n",
              "      <td>0.821815</td>\n",
              "      <td>0.573951</td>\n",
              "      <td>0.820332</td>\n",
              "      <td>0.574922</td>\n",
              "    </tr>\n",
              "    <tr>\n",
              "      <th>7</th>\n",
              "      <td>0.821815</td>\n",
              "      <td>0.573961</td>\n",
              "      <td>0.820332</td>\n",
              "      <td>0.574921</td>\n",
              "    </tr>\n",
              "  </tbody>\n",
              "</table>\n",
              "</div>\n",
              "    <div class=\"colab-df-buttons\">\n",
              "\n",
              "  <div class=\"colab-df-container\">\n",
              "    <button class=\"colab-df-convert\" onclick=\"convertToInteractive('df-ee82321b-4250-4087-aeba-126321809224')\"\n",
              "            title=\"Convert this dataframe to an interactive table.\"\n",
              "            style=\"display:none;\">\n",
              "\n",
              "  <svg xmlns=\"http://www.w3.org/2000/svg\" height=\"24px\" viewBox=\"0 -960 960 960\">\n",
              "    <path d=\"M120-120v-720h720v720H120Zm60-500h600v-160H180v160Zm220 220h160v-160H400v160Zm0 220h160v-160H400v160ZM180-400h160v-160H180v160Zm440 0h160v-160H620v160ZM180-180h160v-160H180v160Zm440 0h160v-160H620v160Z\"/>\n",
              "  </svg>\n",
              "    </button>\n",
              "\n",
              "  <style>\n",
              "    .colab-df-container {\n",
              "      display:flex;\n",
              "      gap: 12px;\n",
              "    }\n",
              "\n",
              "    .colab-df-convert {\n",
              "      background-color: #E8F0FE;\n",
              "      border: none;\n",
              "      border-radius: 50%;\n",
              "      cursor: pointer;\n",
              "      display: none;\n",
              "      fill: #1967D2;\n",
              "      height: 32px;\n",
              "      padding: 0 0 0 0;\n",
              "      width: 32px;\n",
              "    }\n",
              "\n",
              "    .colab-df-convert:hover {\n",
              "      background-color: #E2EBFA;\n",
              "      box-shadow: 0px 1px 2px rgba(60, 64, 67, 0.3), 0px 1px 3px 1px rgba(60, 64, 67, 0.15);\n",
              "      fill: #174EA6;\n",
              "    }\n",
              "\n",
              "    .colab-df-buttons div {\n",
              "      margin-bottom: 4px;\n",
              "    }\n",
              "\n",
              "    [theme=dark] .colab-df-convert {\n",
              "      background-color: #3B4455;\n",
              "      fill: #D2E3FC;\n",
              "    }\n",
              "\n",
              "    [theme=dark] .colab-df-convert:hover {\n",
              "      background-color: #434B5C;\n",
              "      box-shadow: 0px 1px 3px 1px rgba(0, 0, 0, 0.15);\n",
              "      filter: drop-shadow(0px 1px 2px rgba(0, 0, 0, 0.3));\n",
              "      fill: #FFFFFF;\n",
              "    }\n",
              "  </style>\n",
              "\n",
              "    <script>\n",
              "      const buttonEl =\n",
              "        document.querySelector('#df-ee82321b-4250-4087-aeba-126321809224 button.colab-df-convert');\n",
              "      buttonEl.style.display =\n",
              "        google.colab.kernel.accessAllowed ? 'block' : 'none';\n",
              "\n",
              "      async function convertToInteractive(key) {\n",
              "        const element = document.querySelector('#df-ee82321b-4250-4087-aeba-126321809224');\n",
              "        const dataTable =\n",
              "          await google.colab.kernel.invokeFunction('convertToInteractive',\n",
              "                                                    [key], {});\n",
              "        if (!dataTable) return;\n",
              "\n",
              "        const docLinkHtml = 'Like what you see? Visit the ' +\n",
              "          '<a target=\"_blank\" href=https://colab.research.google.com/notebooks/data_table.ipynb>data table notebook</a>'\n",
              "          + ' to learn more about interactive tables.';\n",
              "        element.innerHTML = '';\n",
              "        dataTable['output_type'] = 'display_data';\n",
              "        await google.colab.output.renderOutput(dataTable, element);\n",
              "        const docLink = document.createElement('div');\n",
              "        docLink.innerHTML = docLinkHtml;\n",
              "        element.appendChild(docLink);\n",
              "      }\n",
              "    </script>\n",
              "  </div>\n",
              "\n",
              "\n",
              "<div id=\"df-3f17d228-24cf-4887-a431-338f349c6d31\">\n",
              "  <button class=\"colab-df-quickchart\" onclick=\"quickchart('df-3f17d228-24cf-4887-a431-338f349c6d31')\"\n",
              "            title=\"Suggest charts\"\n",
              "            style=\"display:none;\">\n",
              "\n",
              "<svg xmlns=\"http://www.w3.org/2000/svg\" height=\"24px\"viewBox=\"0 0 24 24\"\n",
              "     width=\"24px\">\n",
              "    <g>\n",
              "        <path d=\"M19 3H5c-1.1 0-2 .9-2 2v14c0 1.1.9 2 2 2h14c1.1 0 2-.9 2-2V5c0-1.1-.9-2-2-2zM9 17H7v-7h2v7zm4 0h-2V7h2v10zm4 0h-2v-4h2v4z\"/>\n",
              "    </g>\n",
              "</svg>\n",
              "  </button>\n",
              "\n",
              "<style>\n",
              "  .colab-df-quickchart {\n",
              "      --bg-color: #E8F0FE;\n",
              "      --fill-color: #1967D2;\n",
              "      --hover-bg-color: #E2EBFA;\n",
              "      --hover-fill-color: #174EA6;\n",
              "      --disabled-fill-color: #AAA;\n",
              "      --disabled-bg-color: #DDD;\n",
              "  }\n",
              "\n",
              "  [theme=dark] .colab-df-quickchart {\n",
              "      --bg-color: #3B4455;\n",
              "      --fill-color: #D2E3FC;\n",
              "      --hover-bg-color: #434B5C;\n",
              "      --hover-fill-color: #FFFFFF;\n",
              "      --disabled-bg-color: #3B4455;\n",
              "      --disabled-fill-color: #666;\n",
              "  }\n",
              "\n",
              "  .colab-df-quickchart {\n",
              "    background-color: var(--bg-color);\n",
              "    border: none;\n",
              "    border-radius: 50%;\n",
              "    cursor: pointer;\n",
              "    display: none;\n",
              "    fill: var(--fill-color);\n",
              "    height: 32px;\n",
              "    padding: 0;\n",
              "    width: 32px;\n",
              "  }\n",
              "\n",
              "  .colab-df-quickchart:hover {\n",
              "    background-color: var(--hover-bg-color);\n",
              "    box-shadow: 0 1px 2px rgba(60, 64, 67, 0.3), 0 1px 3px 1px rgba(60, 64, 67, 0.15);\n",
              "    fill: var(--button-hover-fill-color);\n",
              "  }\n",
              "\n",
              "  .colab-df-quickchart-complete:disabled,\n",
              "  .colab-df-quickchart-complete:disabled:hover {\n",
              "    background-color: var(--disabled-bg-color);\n",
              "    fill: var(--disabled-fill-color);\n",
              "    box-shadow: none;\n",
              "  }\n",
              "\n",
              "  .colab-df-spinner {\n",
              "    border: 2px solid var(--fill-color);\n",
              "    border-color: transparent;\n",
              "    border-bottom-color: var(--fill-color);\n",
              "    animation:\n",
              "      spin 1s steps(1) infinite;\n",
              "  }\n",
              "\n",
              "  @keyframes spin {\n",
              "    0% {\n",
              "      border-color: transparent;\n",
              "      border-bottom-color: var(--fill-color);\n",
              "      border-left-color: var(--fill-color);\n",
              "    }\n",
              "    20% {\n",
              "      border-color: transparent;\n",
              "      border-left-color: var(--fill-color);\n",
              "      border-top-color: var(--fill-color);\n",
              "    }\n",
              "    30% {\n",
              "      border-color: transparent;\n",
              "      border-left-color: var(--fill-color);\n",
              "      border-top-color: var(--fill-color);\n",
              "      border-right-color: var(--fill-color);\n",
              "    }\n",
              "    40% {\n",
              "      border-color: transparent;\n",
              "      border-right-color: var(--fill-color);\n",
              "      border-top-color: var(--fill-color);\n",
              "    }\n",
              "    60% {\n",
              "      border-color: transparent;\n",
              "      border-right-color: var(--fill-color);\n",
              "    }\n",
              "    80% {\n",
              "      border-color: transparent;\n",
              "      border-right-color: var(--fill-color);\n",
              "      border-bottom-color: var(--fill-color);\n",
              "    }\n",
              "    90% {\n",
              "      border-color: transparent;\n",
              "      border-bottom-color: var(--fill-color);\n",
              "    }\n",
              "  }\n",
              "</style>\n",
              "\n",
              "  <script>\n",
              "    async function quickchart(key) {\n",
              "      const quickchartButtonEl =\n",
              "        document.querySelector('#' + key + ' button');\n",
              "      quickchartButtonEl.disabled = true;  // To prevent multiple clicks.\n",
              "      quickchartButtonEl.classList.add('colab-df-spinner');\n",
              "      try {\n",
              "        const charts = await google.colab.kernel.invokeFunction(\n",
              "            'suggestCharts', [key], {});\n",
              "      } catch (error) {\n",
              "        console.error('Error during call to suggestCharts:', error);\n",
              "      }\n",
              "      quickchartButtonEl.classList.remove('colab-df-spinner');\n",
              "      quickchartButtonEl.classList.add('colab-df-quickchart-complete');\n",
              "    }\n",
              "    (() => {\n",
              "      let quickchartButtonEl =\n",
              "        document.querySelector('#df-3f17d228-24cf-4887-a431-338f349c6d31 button');\n",
              "      quickchartButtonEl.style.display =\n",
              "        google.colab.kernel.accessAllowed ? 'block' : 'none';\n",
              "    })();\n",
              "  </script>\n",
              "</div>\n",
              "\n",
              "  <div id=\"id_00f07278-0847-4363-9f10-6fb578c4806e\">\n",
              "    <style>\n",
              "      .colab-df-generate {\n",
              "        background-color: #E8F0FE;\n",
              "        border: none;\n",
              "        border-radius: 50%;\n",
              "        cursor: pointer;\n",
              "        display: none;\n",
              "        fill: #1967D2;\n",
              "        height: 32px;\n",
              "        padding: 0 0 0 0;\n",
              "        width: 32px;\n",
              "      }\n",
              "\n",
              "      .colab-df-generate:hover {\n",
              "        background-color: #E2EBFA;\n",
              "        box-shadow: 0px 1px 2px rgba(60, 64, 67, 0.3), 0px 1px 3px 1px rgba(60, 64, 67, 0.15);\n",
              "        fill: #174EA6;\n",
              "      }\n",
              "\n",
              "      [theme=dark] .colab-df-generate {\n",
              "        background-color: #3B4455;\n",
              "        fill: #D2E3FC;\n",
              "      }\n",
              "\n",
              "      [theme=dark] .colab-df-generate:hover {\n",
              "        background-color: #434B5C;\n",
              "        box-shadow: 0px 1px 3px 1px rgba(0, 0, 0, 0.15);\n",
              "        filter: drop-shadow(0px 1px 2px rgba(0, 0, 0, 0.3));\n",
              "        fill: #FFFFFF;\n",
              "      }\n",
              "    </style>\n",
              "    <button class=\"colab-df-generate\" onclick=\"generateWithVariable('results')\"\n",
              "            title=\"Generate code using this dataframe.\"\n",
              "            style=\"display:none;\">\n",
              "\n",
              "  <svg xmlns=\"http://www.w3.org/2000/svg\" height=\"24px\"viewBox=\"0 0 24 24\"\n",
              "       width=\"24px\">\n",
              "    <path d=\"M7,19H8.4L18.45,9,17,7.55,7,17.6ZM5,21V16.75L18.45,3.32a2,2,0,0,1,2.83,0l1.4,1.43a1.91,1.91,0,0,1,.58,1.4,1.91,1.91,0,0,1-.58,1.4L9.25,21ZM18.45,9,17,7.55Zm-12,3A5.31,5.31,0,0,0,4.9,8.1,5.31,5.31,0,0,0,1,6.5,5.31,5.31,0,0,0,4.9,4.9,5.31,5.31,0,0,0,6.5,1,5.31,5.31,0,0,0,8.1,4.9,5.31,5.31,0,0,0,12,6.5,5.46,5.46,0,0,0,6.5,12Z\"/>\n",
              "  </svg>\n",
              "    </button>\n",
              "    <script>\n",
              "      (() => {\n",
              "      const buttonEl =\n",
              "        document.querySelector('#id_00f07278-0847-4363-9f10-6fb578c4806e button.colab-df-generate');\n",
              "      buttonEl.style.display =\n",
              "        google.colab.kernel.accessAllowed ? 'block' : 'none';\n",
              "\n",
              "      buttonEl.onclick = () => {\n",
              "        google.colab.notebook.generateWithVariable('results');\n",
              "      }\n",
              "      })();\n",
              "    </script>\n",
              "  </div>\n",
              "\n",
              "    </div>\n",
              "  </div>\n"
            ],
            "application/vnd.google.colaboratory.intrinsic+json": {
              "type": "dataframe",
              "variable_name": "results",
              "summary": "{\n  \"name\": \"results\",\n  \"rows\": 8,\n  \"fields\": [\n    {\n      \"column\": \"accuracy\",\n      \"properties\": {\n        \"dtype\": \"number\",\n        \"std\": 0.000104798138822338,\n        \"min\": 0.8215184211730957,\n        \"max\": 0.8218148350715637,\n        \"num_unique_values\": 2,\n        \"samples\": [\n          0.8218148350715637,\n          0.8215184211730957\n        ],\n        \"semantic_type\": \"\",\n        \"description\": \"\"\n      }\n    },\n    {\n      \"column\": \"loss\",\n      \"properties\": {\n        \"dtype\": \"number\",\n        \"std\": 0.032464699109573496,\n        \"min\": 0.5739437937736511,\n        \"max\": 0.6657912731170654,\n        \"num_unique_values\": 8,\n        \"samples\": [\n          0.574047863483429,\n          0.5739437937736511\n        ],\n        \"semantic_type\": \"\",\n        \"description\": \"\"\n      }\n    },\n    {\n      \"column\": \"val_accuracy\",\n      \"properties\": {\n        \"dtype\": \"number\",\n        \"std\": 0.0,\n        \"min\": 0.8203320503234863,\n        \"max\": 0.8203320503234863,\n        \"num_unique_values\": 1,\n        \"samples\": [\n          0.8203320503234863\n        ],\n        \"semantic_type\": \"\",\n        \"description\": \"\"\n      }\n    },\n    {\n      \"column\": \"val_loss\",\n      \"properties\": {\n        \"dtype\": \"number\",\n        \"std\": 0.00040645820318526555,\n        \"min\": 0.5749165415763855,\n        \"max\": 0.5760903358459473,\n        \"num_unique_values\": 8,\n        \"samples\": [\n          0.5749878883361816\n        ],\n        \"semantic_type\": \"\",\n        \"description\": \"\"\n      }\n    }\n  ]\n}"
            }
          },
          "metadata": {},
          "execution_count": 123
        }
      ],
      "source": [
        "# Log the training results\n",
        "results = pd.DataFrame(history.history)\n",
        "results"
      ]
    },
    {
      "cell_type": "markdown",
      "source": [
        "# **Pre trained lstm model**"
      ],
      "metadata": {
        "id": "chWweS_NFHtb"
      },
      "id": "chWweS_NFHtb"
    },
    {
      "cell_type": "code",
      "source": [
        "from keras.layers import LSTM"
      ],
      "metadata": {
        "id": "xXK30LYO7j3Z"
      },
      "id": "xXK30LYO7j3Z",
      "execution_count": null,
      "outputs": []
    },
    {
      "cell_type": "code",
      "source": [
        "# Assuming you have a dictionary called 'word_index' containing the vocabulary:\n",
        "vocab_length = len(word_index) + 1\n",
        "vocab_length"
      ],
      "metadata": {
        "colab": {
          "base_uri": "https://localhost:8080/"
        },
        "id": "uF88nZS-78cu",
        "outputId": "56d58f25-2ee5-47bb-86e9-efbcd7982794"
      },
      "id": "uF88nZS-78cu",
      "execution_count": null,
      "outputs": [
        {
          "output_type": "execute_result",
          "data": {
            "text/plain": [
              "43166"
            ]
          },
          "metadata": {},
          "execution_count": 125
        }
      ]
    },
    {
      "cell_type": "code",
      "source": [
        "word_tokenizer = Tokenizer()"
      ],
      "metadata": {
        "id": "uwWClUxe_lXs"
      },
      "id": "uwWClUxe_lXs",
      "execution_count": null,
      "outputs": []
    },
    {
      "cell_type": "code",
      "source": [
        " # Load GloVe word embeddings and create an Embeddings Dictionary\n",
        "\n",
        "from numpy import asarray\n",
        "from numpy import zeros\n",
        "\n",
        "embeddings_dictionary = dict()\n",
        "glove_file = open('glove.6B.100d.txt', encoding=\"utf8\")\n",
        "\n",
        "for line in glove_file:\n",
        "    records = line.split()\n",
        "    word = records[0]\n",
        "    vector_dimensions = asarray(records[1:], dtype='float32')\n",
        "    embeddings_dictionary [word] = vector_dimensions\n",
        "glove_file.close()\n",
        "# Create Embedding Matrix having 100 columns\n",
        "# Containing 100-dimensional GloVe word embeddings for all words in our corpus.\n",
        "\n",
        "embedding_matrix = zeros((vocab_length, 100))\n",
        "for word, index in word_tokenizer.word_index.items():\n",
        "    embedding_vector = embeddings_dictionary.get(word)\n",
        "    if embedding_vector is not None:\n",
        "        embedding_matrix[index] = embedding_vector"
      ],
      "metadata": {
        "id": "WUugwvgw9tnB"
      },
      "id": "WUugwvgw9tnB",
      "execution_count": null,
      "outputs": []
    },
    {
      "cell_type": "code",
      "source": [
        "# Neural Network architecture\n",
        "maxlen = 100\n",
        "lstm_model = Sequential()\n",
        "embedding_layer = Embedding(vocab_length, 100, weights=[embedding_matrix], input_length=maxlen , trainable= True)\n",
        "\n",
        "lstm_model.add(embedding_layer)\n",
        "lstm_model.add(LSTM(128))\n",
        "\n",
        "# Change activation function and number of output nodes\n",
        "lstm_model.add(Dense(3, activation='softmax')) # 3 output nodes for 3 classes, softmax for multi-class\n",
        "\n",
        "# Model compiling\n",
        "lstm_model.compile(optimizer='adam', loss='categorical_crossentropy', metrics=['acc']) # Use categorical_crossentropy for multi-class\n",
        "print(lstm_model.summary())"
      ],
      "metadata": {
        "colab": {
          "base_uri": "https://localhost:8080/",
          "height": 242
        },
        "id": "Y5_BC5_I7j0p",
        "outputId": "ed95ba4d-3ebb-4d6e-8dcc-0348e2235e9f"
      },
      "id": "Y5_BC5_I7j0p",
      "execution_count": null,
      "outputs": [
        {
          "output_type": "display_data",
          "data": {
            "text/plain": [
              "\u001b[1mModel: \"sequential_3\"\u001b[0m\n"
            ],
            "text/html": [
              "<pre style=\"white-space:pre;overflow-x:auto;line-height:normal;font-family:Menlo,'DejaVu Sans Mono',consolas,'Courier New',monospace\"><span style=\"font-weight: bold\">Model: \"sequential_3\"</span>\n",
              "</pre>\n"
            ]
          },
          "metadata": {}
        },
        {
          "output_type": "display_data",
          "data": {
            "text/plain": [
              "┏━━━━━━━━━━━━━━━━━━━━━━━━━━━━━━━━━━━━━━┳━━━━━━━━━━━━━━━━━━━━━━━━━━━━━┳━━━━━━━━━━━━━━━━━┓\n",
              "┃\u001b[1m \u001b[0m\u001b[1mLayer (type)                        \u001b[0m\u001b[1m \u001b[0m┃\u001b[1m \u001b[0m\u001b[1mOutput Shape               \u001b[0m\u001b[1m \u001b[0m┃\u001b[1m \u001b[0m\u001b[1m        Param #\u001b[0m\u001b[1m \u001b[0m┃\n",
              "┡━━━━━━━━━━━━━━━━━━━━━━━━━━━━━━━━━━━━━━╇━━━━━━━━━━━━━━━━━━━━━━━━━━━━━╇━━━━━━━━━━━━━━━━━┩\n",
              "│ embedding_3 (\u001b[38;5;33mEmbedding\u001b[0m)              │ ?                           │       \u001b[38;5;34m4,316,600\u001b[0m │\n",
              "├──────────────────────────────────────┼─────────────────────────────┼─────────────────┤\n",
              "│ lstm_5 (\u001b[38;5;33mLSTM\u001b[0m)                        │ ?                           │     \u001b[38;5;34m0\u001b[0m (unbuilt) │\n",
              "├──────────────────────────────────────┼─────────────────────────────┼─────────────────┤\n",
              "│ dense_5 (\u001b[38;5;33mDense\u001b[0m)                      │ ?                           │     \u001b[38;5;34m0\u001b[0m (unbuilt) │\n",
              "└──────────────────────────────────────┴─────────────────────────────┴─────────────────┘\n"
            ],
            "text/html": [
              "<pre style=\"white-space:pre;overflow-x:auto;line-height:normal;font-family:Menlo,'DejaVu Sans Mono',consolas,'Courier New',monospace\">┏━━━━━━━━━━━━━━━━━━━━━━━━━━━━━━━━━━━━━━┳━━━━━━━━━━━━━━━━━━━━━━━━━━━━━┳━━━━━━━━━━━━━━━━━┓\n",
              "┃<span style=\"font-weight: bold\"> Layer (type)                         </span>┃<span style=\"font-weight: bold\"> Output Shape                </span>┃<span style=\"font-weight: bold\">         Param # </span>┃\n",
              "┡━━━━━━━━━━━━━━━━━━━━━━━━━━━━━━━━━━━━━━╇━━━━━━━━━━━━━━━━━━━━━━━━━━━━━╇━━━━━━━━━━━━━━━━━┩\n",
              "│ embedding_3 (<span style=\"color: #0087ff; text-decoration-color: #0087ff\">Embedding</span>)              │ ?                           │       <span style=\"color: #00af00; text-decoration-color: #00af00\">4,316,600</span> │\n",
              "├──────────────────────────────────────┼─────────────────────────────┼─────────────────┤\n",
              "│ lstm_5 (<span style=\"color: #0087ff; text-decoration-color: #0087ff\">LSTM</span>)                        │ ?                           │     <span style=\"color: #00af00; text-decoration-color: #00af00\">0</span> (unbuilt) │\n",
              "├──────────────────────────────────────┼─────────────────────────────┼─────────────────┤\n",
              "│ dense_5 (<span style=\"color: #0087ff; text-decoration-color: #0087ff\">Dense</span>)                      │ ?                           │     <span style=\"color: #00af00; text-decoration-color: #00af00\">0</span> (unbuilt) │\n",
              "└──────────────────────────────────────┴─────────────────────────────┴─────────────────┘\n",
              "</pre>\n"
            ]
          },
          "metadata": {}
        },
        {
          "output_type": "display_data",
          "data": {
            "text/plain": [
              "\u001b[1m Total params: \u001b[0m\u001b[38;5;34m4,316,600\u001b[0m (16.47 MB)\n"
            ],
            "text/html": [
              "<pre style=\"white-space:pre;overflow-x:auto;line-height:normal;font-family:Menlo,'DejaVu Sans Mono',consolas,'Courier New',monospace\"><span style=\"font-weight: bold\"> Total params: </span><span style=\"color: #00af00; text-decoration-color: #00af00\">4,316,600</span> (16.47 MB)\n",
              "</pre>\n"
            ]
          },
          "metadata": {}
        },
        {
          "output_type": "display_data",
          "data": {
            "text/plain": [
              "\u001b[1m Trainable params: \u001b[0m\u001b[38;5;34m4,316,600\u001b[0m (16.47 MB)\n"
            ],
            "text/html": [
              "<pre style=\"white-space:pre;overflow-x:auto;line-height:normal;font-family:Menlo,'DejaVu Sans Mono',consolas,'Courier New',monospace\"><span style=\"font-weight: bold\"> Trainable params: </span><span style=\"color: #00af00; text-decoration-color: #00af00\">4,316,600</span> (16.47 MB)\n",
              "</pre>\n"
            ]
          },
          "metadata": {}
        },
        {
          "output_type": "display_data",
          "data": {
            "text/plain": [
              "\u001b[1m Non-trainable params: \u001b[0m\u001b[38;5;34m0\u001b[0m (0.00 B)\n"
            ],
            "text/html": [
              "<pre style=\"white-space:pre;overflow-x:auto;line-height:normal;font-family:Menlo,'DejaVu Sans Mono',consolas,'Courier New',monospace\"><span style=\"font-weight: bold\"> Non-trainable params: </span><span style=\"color: #00af00; text-decoration-color: #00af00\">0</span> (0.00 B)\n",
              "</pre>\n"
            ]
          },
          "metadata": {}
        },
        {
          "output_type": "stream",
          "name": "stdout",
          "text": [
            "None\n"
          ]
        }
      ]
    },
    {
      "cell_type": "code",
      "source": [
        "\n",
        "# Model Training\n",
        "\n",
        "lstm_model_history = lstm_model.fit(X_train, y_train, batch_size=128, epochs=6, verbose=1, validation_split=0.2)"
      ],
      "metadata": {
        "colab": {
          "base_uri": "https://localhost:8080/"
        },
        "id": "VYQEzfVn7kfn",
        "outputId": "9dc8a122-c8a1-48af-bf36-0a2058c47318"
      },
      "id": "VYQEzfVn7kfn",
      "execution_count": null,
      "outputs": [
        {
          "output_type": "stream",
          "name": "stdout",
          "text": [
            "Epoch 1/6\n",
            "\u001b[1m654/654\u001b[0m \u001b[32m━━━━━━━━━━━━━━━━━━━━\u001b[0m\u001b[37m\u001b[0m \u001b[1m10s\u001b[0m 12ms/step - acc: 0.8562 - loss: 0.4268 - val_acc: 0.9024 - val_loss: 0.2826\n",
            "Epoch 2/6\n",
            "\u001b[1m654/654\u001b[0m \u001b[32m━━━━━━━━━━━━━━━━━━━━\u001b[0m\u001b[37m\u001b[0m \u001b[1m9s\u001b[0m 14ms/step - acc: 0.9149 - loss: 0.2447 - val_acc: 0.9063 - val_loss: 0.2794\n",
            "Epoch 3/6\n",
            "\u001b[1m654/654\u001b[0m \u001b[32m━━━━━━━━━━━━━━━━━━━━\u001b[0m\u001b[37m\u001b[0m \u001b[1m9s\u001b[0m 14ms/step - acc: 0.9319 - loss: 0.1991 - val_acc: 0.9140 - val_loss: 0.2621\n",
            "Epoch 4/6\n",
            "\u001b[1m654/654\u001b[0m \u001b[32m━━━━━━━━━━━━━━━━━━━━\u001b[0m\u001b[37m\u001b[0m \u001b[1m8s\u001b[0m 12ms/step - acc: 0.9440 - loss: 0.1645 - val_acc: 0.9151 - val_loss: 0.2749\n",
            "Epoch 5/6\n",
            "\u001b[1m654/654\u001b[0m \u001b[32m━━━━━━━━━━━━━━━━━━━━\u001b[0m\u001b[37m\u001b[0m \u001b[1m10s\u001b[0m 15ms/step - acc: 0.9568 - loss: 0.1304 - val_acc: 0.9122 - val_loss: 0.2853\n",
            "Epoch 6/6\n",
            "\u001b[1m654/654\u001b[0m \u001b[32m━━━━━━━━━━━━━━━━━━━━\u001b[0m\u001b[37m\u001b[0m \u001b[1m9s\u001b[0m 13ms/step - acc: 0.9641 - loss: 0.1097 - val_acc: 0.9153 - val_loss: 0.3174\n"
          ]
        }
      ]
    },
    {
      "cell_type": "code",
      "source": [
        "# Predictions on the Test Set\n",
        "\n",
        "score = lstm_model.evaluate(X_test, y_test, verbose=1)"
      ],
      "metadata": {
        "colab": {
          "base_uri": "https://localhost:8080/"
        },
        "id": "c1w3DzD97jx9",
        "outputId": "fb70e15c-249d-4170-9e14-e2cdb6dc7e49"
      },
      "id": "c1w3DzD97jx9",
      "execution_count": null,
      "outputs": [
        {
          "output_type": "stream",
          "name": "stdout",
          "text": [
            "\u001b[1m701/701\u001b[0m \u001b[32m━━━━━━━━━━━━━━━━━━━━\u001b[0m\u001b[37m\u001b[0m \u001b[1m2s\u001b[0m 3ms/step - acc: 0.9122 - loss: 0.3361\n"
          ]
        }
      ]
    },
    {
      "cell_type": "code",
      "source": [
        "# Model Performance\n",
        "\n",
        "print(\"Test Score:\", score[0])\n",
        "print(\"Test Accuracy:\", score[1])"
      ],
      "metadata": {
        "colab": {
          "base_uri": "https://localhost:8080/"
        },
        "id": "zg7Ugjz27ju7",
        "outputId": "a35d1953-fb11-409d-a6f9-e44ed7c64f83"
      },
      "id": "zg7Ugjz27ju7",
      "execution_count": null,
      "outputs": [
        {
          "output_type": "stream",
          "name": "stdout",
          "text": [
            "Test Score: 0.3303976356983185\n",
            "Test Accuracy: 0.9132937788963318\n"
          ]
        }
      ]
    },
    {
      "cell_type": "code",
      "source": [
        "# Predict sentiment of a specific sentence\n",
        "sentence = \"it was horrible\"\n",
        "processed_sentence = tokenizer.texts_to_sequences([sentence])\n",
        "\n",
        "# Define max_length or retrieve it if it was saved during training\n",
        "# For instance, if you saved max_length as 100 during training, set it here:\n",
        "max_length = 100  # Replace with the actual value used during training\n",
        "\n",
        "padded_sentence = tf.keras.preprocessing.sequence.pad_sequences(processed_sentence, maxlen=max_length)\n",
        "\n",
        "prediction = lstm_model.predict(padded_sentence)\n",
        "\n",
        "# Assuming 3 output nodes: negative, neutral, positive\n",
        "# Access the probability for positive sentiment (index 2)\n",
        "positive_prob = prediction[0][2]  # prediction[0] gets the first (and only) sample's predictions\n",
        "print(positive_prob)\n",
        "\n",
        "print(f\"Predicted Sentiment for '{sentence}': {'Positive' if positive_prob > 0.5 else 'Negative'}\")"
      ],
      "metadata": {
        "colab": {
          "base_uri": "https://localhost:8080/"
        },
        "id": "mk4I_HT5HdFh",
        "outputId": "cee7ff91-2df6-4e24-b6c7-39829d123510"
      },
      "id": "mk4I_HT5HdFh",
      "execution_count": null,
      "outputs": [
        {
          "output_type": "stream",
          "name": "stdout",
          "text": [
            "\u001b[1m1/1\u001b[0m \u001b[32m━━━━━━━━━━━━━━━━━━━━\u001b[0m\u001b[37m\u001b[0m \u001b[1m0s\u001b[0m 114ms/step\n",
            "0.007874218\n",
            "Predicted Sentiment for 'it was horrible': Negative\n"
          ]
        }
      ]
    },
    {
      "cell_type": "code",
      "source": [
        "# Predict sentiment of a specific sentence\n",
        "sentence = \"wow this was nice but can be better \"\n",
        "processed_sentence = tokenizer.texts_to_sequences([sentence])\n",
        "\n",
        "# Define max_length or retrieve it if it was saved during training\n",
        "# For instance, if you saved max_length as 100 during training, set it here:\n",
        "max_length = 100  # Replace with the actual value used during training\n",
        "\n",
        "padded_sentence = tf.keras.preprocessing.sequence.pad_sequences(processed_sentence, maxlen=max_length)\n",
        "\n",
        "prediction = lstm_model.predict(padded_sentence)\n",
        "\n",
        "# Assuming 3 output nodes: negative, neutral, positive\n",
        "# Access the probability for positive sentiment (index 2)\n",
        "positive_prob = prediction[0][2]  # prediction[0] gets the first (and only) sample's predictions\n",
        "print(positive_prob)\n",
        "\n",
        "print(f\"Predicted Sentiment for '{sentence}': {'Positive' if positive_prob > 0.5 else 'Negative'}\")"
      ],
      "metadata": {
        "colab": {
          "base_uri": "https://localhost:8080/"
        },
        "id": "2iSVMLqQAehU",
        "outputId": "cd75d5d3-a58c-4e3c-b813-a6be6a53ba54"
      },
      "id": "2iSVMLqQAehU",
      "execution_count": null,
      "outputs": [
        {
          "output_type": "stream",
          "name": "stdout",
          "text": [
            "\u001b[1m1/1\u001b[0m \u001b[32m━━━━━━━━━━━━━━━━━━━━\u001b[0m\u001b[37m\u001b[0m \u001b[1m0s\u001b[0m 16ms/step\n",
            "0.94587755\n",
            "Predicted Sentiment for 'wow this was nice but can be better ': Positive\n"
          ]
        }
      ]
    },
    {
      "cell_type": "code",
      "source": [
        "# Evaluate the model on the test data\n",
        "print('Evaluate on test data')\n",
        "test_results = lstm_model.evaluate(X_test, y_test, batch_size=32)\n",
        "print('Test loss, Test accuracy:', test_results)"
      ],
      "metadata": {
        "colab": {
          "base_uri": "https://localhost:8080/"
        },
        "id": "42o6xjrgFXtu",
        "outputId": "d28e555e-b00a-4785-b410-bae39acebfbc"
      },
      "id": "42o6xjrgFXtu",
      "execution_count": null,
      "outputs": [
        {
          "output_type": "stream",
          "name": "stdout",
          "text": [
            "Evaluate on test data\n",
            "\u001b[1m701/701\u001b[0m \u001b[32m━━━━━━━━━━━━━━━━━━━━\u001b[0m\u001b[37m\u001b[0m \u001b[1m3s\u001b[0m 5ms/step - acc: 0.9122 - loss: 0.3361\n",
            "Test loss, Test accuracy: [0.3303976356983185, 0.9132937788963318]\n"
          ]
        }
      ]
    },
    {
      "cell_type": "code",
      "source": [
        "# Save the trained network\n",
        "lstm_model.save('lstm_model(2).h5')  # create an HDF5 file 'lstm_model.h5'"
      ],
      "metadata": {
        "id": "DbLojEH7SV5A"
      },
      "id": "DbLojEH7SV5A",
      "execution_count": null,
      "outputs": []
    },
    {
      "cell_type": "markdown",
      "source": [
        "# Load and check model"
      ],
      "metadata": {
        "id": "lYRTGkqtSZ4u"
      },
      "id": "lYRTGkqtSZ4u"
    },
    {
      "cell_type": "code",
      "source": [
        "new_model = load_model('lstm_model(2).h5')"
      ],
      "metadata": {
        "colab": {
          "base_uri": "https://localhost:8080/"
        },
        "id": "NlAd_bvbGVuR",
        "outputId": "ac474460-257f-4ab1-9600-6f7549f45448"
      },
      "id": "NlAd_bvbGVuR",
      "execution_count": null,
      "outputs": [
        {
          "output_type": "stream",
          "name": "stderr",
          "text": [
            "WARNING:absl:Compiled the loaded model, but the compiled metrics have yet to be built. `model.compile_metrics` will be empty until you train or evaluate the model.\n"
          ]
        }
      ]
    },
    {
      "cell_type": "code",
      "source": [
        "new_model.summary()"
      ],
      "metadata": {
        "colab": {
          "base_uri": "https://localhost:8080/",
          "height": 241
        },
        "id": "yzCmtDs9HA44",
        "outputId": "90429c42-ad8d-4177-82ae-1068d15840e3"
      },
      "id": "yzCmtDs9HA44",
      "execution_count": null,
      "outputs": [
        {
          "output_type": "display_data",
          "data": {
            "text/plain": [
              "\u001b[1mModel: \"sequential_3\"\u001b[0m\n"
            ],
            "text/html": [
              "<pre style=\"white-space:pre;overflow-x:auto;line-height:normal;font-family:Menlo,'DejaVu Sans Mono',consolas,'Courier New',monospace\"><span style=\"font-weight: bold\">Model: \"sequential_3\"</span>\n",
              "</pre>\n"
            ]
          },
          "metadata": {}
        },
        {
          "output_type": "display_data",
          "data": {
            "text/plain": [
              "┏━━━━━━━━━━━━━━━━━━━━━━━━━━━━━━━━━━━━━━┳━━━━━━━━━━━━━━━━━━━━━━━━━━━━━┳━━━━━━━━━━━━━━━━━┓\n",
              "┃\u001b[1m \u001b[0m\u001b[1mLayer (type)                        \u001b[0m\u001b[1m \u001b[0m┃\u001b[1m \u001b[0m\u001b[1mOutput Shape               \u001b[0m\u001b[1m \u001b[0m┃\u001b[1m \u001b[0m\u001b[1m        Param #\u001b[0m\u001b[1m \u001b[0m┃\n",
              "┡━━━━━━━━━━━━━━━━━━━━━━━━━━━━━━━━━━━━━━╇━━━━━━━━━━━━━━━━━━━━━━━━━━━━━╇━━━━━━━━━━━━━━━━━┩\n",
              "│ embedding_3 (\u001b[38;5;33mEmbedding\u001b[0m)              │ (\u001b[38;5;45mNone\u001b[0m, \u001b[38;5;34m90\u001b[0m, \u001b[38;5;34m100\u001b[0m)             │       \u001b[38;5;34m4,316,600\u001b[0m │\n",
              "├──────────────────────────────────────┼─────────────────────────────┼─────────────────┤\n",
              "│ lstm_5 (\u001b[38;5;33mLSTM\u001b[0m)                        │ (\u001b[38;5;45mNone\u001b[0m, \u001b[38;5;34m128\u001b[0m)                 │         \u001b[38;5;34m117,248\u001b[0m │\n",
              "├──────────────────────────────────────┼─────────────────────────────┼─────────────────┤\n",
              "│ dense_5 (\u001b[38;5;33mDense\u001b[0m)                      │ (\u001b[38;5;45mNone\u001b[0m, \u001b[38;5;34m3\u001b[0m)                   │             \u001b[38;5;34m387\u001b[0m │\n",
              "└──────────────────────────────────────┴─────────────────────────────┴─────────────────┘\n"
            ],
            "text/html": [
              "<pre style=\"white-space:pre;overflow-x:auto;line-height:normal;font-family:Menlo,'DejaVu Sans Mono',consolas,'Courier New',monospace\">┏━━━━━━━━━━━━━━━━━━━━━━━━━━━━━━━━━━━━━━┳━━━━━━━━━━━━━━━━━━━━━━━━━━━━━┳━━━━━━━━━━━━━━━━━┓\n",
              "┃<span style=\"font-weight: bold\"> Layer (type)                         </span>┃<span style=\"font-weight: bold\"> Output Shape                </span>┃<span style=\"font-weight: bold\">         Param # </span>┃\n",
              "┡━━━━━━━━━━━━━━━━━━━━━━━━━━━━━━━━━━━━━━╇━━━━━━━━━━━━━━━━━━━━━━━━━━━━━╇━━━━━━━━━━━━━━━━━┩\n",
              "│ embedding_3 (<span style=\"color: #0087ff; text-decoration-color: #0087ff\">Embedding</span>)              │ (<span style=\"color: #00d7ff; text-decoration-color: #00d7ff\">None</span>, <span style=\"color: #00af00; text-decoration-color: #00af00\">90</span>, <span style=\"color: #00af00; text-decoration-color: #00af00\">100</span>)             │       <span style=\"color: #00af00; text-decoration-color: #00af00\">4,316,600</span> │\n",
              "├──────────────────────────────────────┼─────────────────────────────┼─────────────────┤\n",
              "│ lstm_5 (<span style=\"color: #0087ff; text-decoration-color: #0087ff\">LSTM</span>)                        │ (<span style=\"color: #00d7ff; text-decoration-color: #00d7ff\">None</span>, <span style=\"color: #00af00; text-decoration-color: #00af00\">128</span>)                 │         <span style=\"color: #00af00; text-decoration-color: #00af00\">117,248</span> │\n",
              "├──────────────────────────────────────┼─────────────────────────────┼─────────────────┤\n",
              "│ dense_5 (<span style=\"color: #0087ff; text-decoration-color: #0087ff\">Dense</span>)                      │ (<span style=\"color: #00d7ff; text-decoration-color: #00d7ff\">None</span>, <span style=\"color: #00af00; text-decoration-color: #00af00\">3</span>)                   │             <span style=\"color: #00af00; text-decoration-color: #00af00\">387</span> │\n",
              "└──────────────────────────────────────┴─────────────────────────────┴─────────────────┘\n",
              "</pre>\n"
            ]
          },
          "metadata": {}
        },
        {
          "output_type": "display_data",
          "data": {
            "text/plain": [
              "\u001b[1m Total params: \u001b[0m\u001b[38;5;34m4,434,237\u001b[0m (16.92 MB)\n"
            ],
            "text/html": [
              "<pre style=\"white-space:pre;overflow-x:auto;line-height:normal;font-family:Menlo,'DejaVu Sans Mono',consolas,'Courier New',monospace\"><span style=\"font-weight: bold\"> Total params: </span><span style=\"color: #00af00; text-decoration-color: #00af00\">4,434,237</span> (16.92 MB)\n",
              "</pre>\n"
            ]
          },
          "metadata": {}
        },
        {
          "output_type": "display_data",
          "data": {
            "text/plain": [
              "\u001b[1m Trainable params: \u001b[0m\u001b[38;5;34m4,434,235\u001b[0m (16.92 MB)\n"
            ],
            "text/html": [
              "<pre style=\"white-space:pre;overflow-x:auto;line-height:normal;font-family:Menlo,'DejaVu Sans Mono',consolas,'Courier New',monospace\"><span style=\"font-weight: bold\"> Trainable params: </span><span style=\"color: #00af00; text-decoration-color: #00af00\">4,434,235</span> (16.92 MB)\n",
              "</pre>\n"
            ]
          },
          "metadata": {}
        },
        {
          "output_type": "display_data",
          "data": {
            "text/plain": [
              "\u001b[1m Non-trainable params: \u001b[0m\u001b[38;5;34m0\u001b[0m (0.00 B)\n"
            ],
            "text/html": [
              "<pre style=\"white-space:pre;overflow-x:auto;line-height:normal;font-family:Menlo,'DejaVu Sans Mono',consolas,'Courier New',monospace\"><span style=\"font-weight: bold\"> Non-trainable params: </span><span style=\"color: #00af00; text-decoration-color: #00af00\">0</span> (0.00 B)\n",
              "</pre>\n"
            ]
          },
          "metadata": {}
        },
        {
          "output_type": "display_data",
          "data": {
            "text/plain": [
              "\u001b[1m Optimizer params: \u001b[0m\u001b[38;5;34m2\u001b[0m (12.00 B)\n"
            ],
            "text/html": [
              "<pre style=\"white-space:pre;overflow-x:auto;line-height:normal;font-family:Menlo,'DejaVu Sans Mono',consolas,'Courier New',monospace\"><span style=\"font-weight: bold\"> Optimizer params: </span><span style=\"color: #00af00; text-decoration-color: #00af00\">2</span> (12.00 B)\n",
              "</pre>\n"
            ]
          },
          "metadata": {}
        }
      ]
    },
    {
      "cell_type": "code",
      "source": [],
      "metadata": {
        "id": "nJpI_Ch2RQjQ"
      },
      "id": "nJpI_Ch2RQjQ",
      "execution_count": null,
      "outputs": []
    },
    {
      "cell_type": "code",
      "source": [
        "from sklearn.metrics import precision_score, recall_score, f1_score # Importing necessary functions\n",
        "\n",
        "\n",
        "# Evaluate model on test data\n",
        "score = new_model.evaluate(X_test, y_test, verbose=1)\n",
        "\n",
        "# Calculate precision, recall, F1 score\n",
        "y_pred = new_model.predict(X_test)\n",
        "y_pred = np.argmax(y_pred, axis=1)\n",
        "y_test_argmax = np.argmax(y_test, axis=1)\n",
        "\n",
        "print('Precision:', precision_score(y_test_argmax, y_pred, average='weighted'))\n",
        "print('Recall:', recall_score(y_test_argmax, y_pred, average='weighted'))\n",
        "print('F1 score:', f1_score(y_test_argmax, y_pred, average='weighted'))"
      ],
      "metadata": {
        "colab": {
          "base_uri": "https://localhost:8080/"
        },
        "outputId": "bc0f369b-f934-4f00-ac6b-b1bfdfeb9fc5",
        "id": "h_bDcx15RRih"
      },
      "execution_count": null,
      "outputs": [
        {
          "output_type": "stream",
          "name": "stdout",
          "text": [
            "\u001b[1m21/21\u001b[0m \u001b[32m━━━━━━━━━━━━━━━━━━━━\u001b[0m\u001b[37m\u001b[0m \u001b[1m2s\u001b[0m 97ms/step - acc: 0.6937 - loss: 1.3552\n",
            "\u001b[1m21/21\u001b[0m \u001b[32m━━━━━━━━━━━━━━━━━━━━\u001b[0m\u001b[37m\u001b[0m \u001b[1m2s\u001b[0m 95ms/step\n",
            "Precision: 0.6813840407397413\n",
            "Recall: 0.6998491704374057\n",
            "F1 score: 0.6897521507415211\n"
          ]
        }
      ],
      "id": "h_bDcx15RRih"
    },
    {
      "cell_type": "code",
      "source": [
        "import json"
      ],
      "metadata": {
        "id": "Pf5sC5IHCJDu"
      },
      "id": "Pf5sC5IHCJDu",
      "execution_count": null,
      "outputs": []
    },
    {
      "cell_type": "code",
      "source": [
        "\n",
        "from tensorflow.keras.preprocessing.text import tokenizer_from_json # Import the missing function\n",
        "\n",
        "tokenizer = Tokenizer(num_words=10000)\n",
        "with open('tokenizer.json', 'r') as f:\n",
        "    tokenizer_json = json.load(f)\n",
        "    tokenizer = tokenizer_from_json(tokenizer_json) # Now the function is available"
      ],
      "metadata": {
        "id": "a1ciQbH7BYpQ"
      },
      "id": "a1ciQbH7BYpQ",
      "execution_count": null,
      "outputs": []
    },
    {
      "cell_type": "code",
      "source": [
        "import tensorflow as tf\n",
        "import numpy as np\n",
        "\n",
        "# Assuming tokenizer and new_model are already loaded and available\n",
        "\n",
        "sentences = [\n",
        "    \"nice product\",\n",
        "    \"can be better\",\n",
        "    \"The product has revolutionized how we approach our daily operations. The attention to detail and user-friendly design are unparalleled. A must-have for anyone looking to optimize efficiency.\",\n",
        "    \"While the core functionality is excellent, I was most impressed by the customer service. They went above and beyond to resolve an issue I faced. Great experience!\",\n",
        "    \"The integration capabilities of this product are superb. It seamlessly connects with our existing tools, saving us hours each week. Well done\",\n",
        "    \"The analytics features provided insights we never knew we needed. This has helped our decision-making process immensely. Worth every penny.\",\n",
        "    \"\\\"An excellent product with a focus on sustainability. Knowing that our purchase supports eco-friendly practices is a big plus for our company.\\\"\",\n",
        "    \"The product did not live up to the hype. Several features are either broken or not user-friendly. Disappointing experience overall.\",\n",
        "    \"Extremely slow and laggy. We spent more time troubleshooting than actually using the product. Not worth the investment.\",\n",
        "    \"The lack of proper documentation made setup a nightmare. Had to hire an external consultant just to get it running. Wouldn’t recommend\",\n",
        "    \"The product promises a lot but delivers very little. Customer support was unresponsive when we tried to get help.\",\n",
        "    \"We encountered constant bugs that made the product unusable. A complete waste of time and resources\",\n",
        "    \"The product does what it claims, but nothing more. It’s functional but lacks any standout features.\",\n",
        "    \"Decent product for the price, but there are better alternatives in the market. It’s a middle-of-the-road option.\",\n",
        "    \"The product is okay, but I wouldn’t recommend it for larger teams. It seems better suited for smaller setups\",\n",
        "    \"It worked as advertised, but the design feels outdated. It’s functional but not visually appealing\",\n",
        "    \"No major complaints, but nothing to rave about either. It gets the job done.\",\n",
        "    \"This product has been a game-changer for our team! The seamless workflow and robust features have significantly improved our efficiency. Highly recommended.\",\n",
        "    \"Unfortunately, this product didn’t meet our expectations. The frequent crashes and lack of updates made it difficult to rely on for critical tasks.\",\n",
        "    \"It’s an average product. While it does what it promises, it lacks innovation or features that would make it stand out in a competitive market.\\n\\n\",\n",
        "    \"GOOD\",\n",
        "    \"Amazing product\"\n",
        "]\n",
        "\n",
        "# Process each sentence using the tokenizer\n",
        "processed_sentences = tokenizer.texts_to_sequences(sentences)\n",
        "\n",
        "# Define max_length (ensure this is the same as used during model training)\n",
        "max_length = 100\n",
        "\n",
        "# Pad the sequences to the required length\n",
        "padded_sentences = tf.keras.preprocessing.sequence.pad_sequences(processed_sentences, maxlen=max_length)\n",
        "\n",
        "# Make predictions on the padded sentences\n",
        "predictions = new_model.predict(padded_sentences)\n",
        "\n",
        "# Process each sentence's prediction and display the results\n",
        "for i, sentence in enumerate(sentences):\n",
        "    # Assuming 3 output nodes: negative, neutral, positive\n",
        "    positive_prob = predictions[i][2]  # Index 2 for positive sentiment\n",
        "    sentiment = \"Positive\" if positive_prob > 0.5 else \"Negative\"\n",
        "\n",
        "    print(f\"Sentence: {sentence}\")\n",
        "    print(f\"Predicted Sentiment: {sentiment} (Positive Probability: {positive_prob:.2f})\")\n",
        "    print(\"-\" * 50)\n"
      ],
      "metadata": {
        "colab": {
          "base_uri": "https://localhost:8080/"
        },
        "id": "zTENEt9PGauE",
        "outputId": "2ef4486c-72a6-4c8b-bfd8-a348ced6a815"
      },
      "id": "zTENEt9PGauE",
      "execution_count": null,
      "outputs": [
        {
          "output_type": "stream",
          "name": "stdout",
          "text": [
            "\u001b[1m1/1\u001b[0m \u001b[32m━━━━━━━━━━━━━━━━━━━━\u001b[0m\u001b[37m\u001b[0m \u001b[1m0s\u001b[0m 459ms/step\n",
            "Sentence: nice product\n",
            "Predicted Sentiment: Positive (Positive Probability: 0.96)\n",
            "--------------------------------------------------\n",
            "Sentence: can be better\n",
            "Predicted Sentiment: Negative (Positive Probability: 0.29)\n",
            "--------------------------------------------------\n",
            "Sentence: The product has revolutionized how we approach our daily operations. The attention to detail and user-friendly design are unparalleled. A must-have for anyone looking to optimize efficiency.\n",
            "Predicted Sentiment: Negative (Positive Probability: 0.00)\n",
            "--------------------------------------------------\n",
            "Sentence: While the core functionality is excellent, I was most impressed by the customer service. They went above and beyond to resolve an issue I faced. Great experience!\n",
            "Predicted Sentiment: Negative (Positive Probability: 0.07)\n",
            "--------------------------------------------------\n",
            "Sentence: The integration capabilities of this product are superb. It seamlessly connects with our existing tools, saving us hours each week. Well done\n",
            "Predicted Sentiment: Positive (Positive Probability: 0.91)\n",
            "--------------------------------------------------\n",
            "Sentence: The analytics features provided insights we never knew we needed. This has helped our decision-making process immensely. Worth every penny.\n",
            "Predicted Sentiment: Positive (Positive Probability: 1.00)\n",
            "--------------------------------------------------\n",
            "Sentence: \"An excellent product with a focus on sustainability. Knowing that our purchase supports eco-friendly practices is a big plus for our company.\"\n",
            "Predicted Sentiment: Negative (Positive Probability: 0.05)\n",
            "--------------------------------------------------\n",
            "Sentence: The product did not live up to the hype. Several features are either broken or not user-friendly. Disappointing experience overall.\n",
            "Predicted Sentiment: Negative (Positive Probability: 0.00)\n",
            "--------------------------------------------------\n",
            "Sentence: Extremely slow and laggy. We spent more time troubleshooting than actually using the product. Not worth the investment.\n",
            "Predicted Sentiment: Positive (Positive Probability: 0.94)\n",
            "--------------------------------------------------\n",
            "Sentence: The lack of proper documentation made setup a nightmare. Had to hire an external consultant just to get it running. Wouldn’t recommend\n",
            "Predicted Sentiment: Positive (Positive Probability: 0.97)\n",
            "--------------------------------------------------\n",
            "Sentence: The product promises a lot but delivers very little. Customer support was unresponsive when we tried to get help.\n",
            "Predicted Sentiment: Negative (Positive Probability: 0.10)\n",
            "--------------------------------------------------\n",
            "Sentence: We encountered constant bugs that made the product unusable. A complete waste of time and resources\n",
            "Predicted Sentiment: Negative (Positive Probability: 0.12)\n",
            "--------------------------------------------------\n",
            "Sentence: The product does what it claims, but nothing more. It’s functional but lacks any standout features.\n",
            "Predicted Sentiment: Positive (Positive Probability: 0.99)\n",
            "--------------------------------------------------\n",
            "Sentence: Decent product for the price, but there are better alternatives in the market. It’s a middle-of-the-road option.\n",
            "Predicted Sentiment: Negative (Positive Probability: 0.18)\n",
            "--------------------------------------------------\n",
            "Sentence: The product is okay, but I wouldn’t recommend it for larger teams. It seems better suited for smaller setups\n",
            "Predicted Sentiment: Negative (Positive Probability: 0.02)\n",
            "--------------------------------------------------\n",
            "Sentence: It worked as advertised, but the design feels outdated. It’s functional but not visually appealing\n",
            "Predicted Sentiment: Positive (Positive Probability: 0.97)\n",
            "--------------------------------------------------\n",
            "Sentence: No major complaints, but nothing to rave about either. It gets the job done.\n",
            "Predicted Sentiment: Positive (Positive Probability: 0.88)\n",
            "--------------------------------------------------\n",
            "Sentence: This product has been a game-changer for our team! The seamless workflow and robust features have significantly improved our efficiency. Highly recommended.\n",
            "Predicted Sentiment: Positive (Positive Probability: 0.99)\n",
            "--------------------------------------------------\n",
            "Sentence: Unfortunately, this product didn’t meet our expectations. The frequent crashes and lack of updates made it difficult to rely on for critical tasks.\n",
            "Predicted Sentiment: Negative (Positive Probability: 0.00)\n",
            "--------------------------------------------------\n",
            "Sentence: It’s an average product. While it does what it promises, it lacks innovation or features that would make it stand out in a competitive market.\n",
            "\n",
            "\n",
            "Predicted Sentiment: Negative (Positive Probability: 0.00)\n",
            "--------------------------------------------------\n",
            "Sentence: GOOD\n",
            "Predicted Sentiment: Negative (Positive Probability: 0.18)\n",
            "--------------------------------------------------\n",
            "Sentence: Amazing product\n",
            "Predicted Sentiment: Negative (Positive Probability: 0.14)\n",
            "--------------------------------------------------\n"
          ]
        }
      ]
    },
    {
      "cell_type": "markdown",
      "source": [
        "\n",
        "# **Other**"
      ],
      "metadata": {
        "id": "1n49hyuzKRKC"
      },
      "id": "1n49hyuzKRKC"
    },
    {
      "cell_type": "code",
      "source": [
        "import nltk\n",
        "nltk.download('stopwords')\n",
        "nltk.download('punkt_tab')"
      ],
      "metadata": {
        "colab": {
          "base_uri": "https://localhost:8080/"
        },
        "id": "_7Y5D4bfSonV",
        "outputId": "fdd33909-1297-49a0-e1f9-be3921ce34a8"
      },
      "id": "_7Y5D4bfSonV",
      "execution_count": null,
      "outputs": [
        {
          "output_type": "stream",
          "name": "stderr",
          "text": [
            "[nltk_data] Downloading package stopwords to /root/nltk_data...\n",
            "[nltk_data]   Unzipping corpora/stopwords.zip.\n",
            "[nltk_data] Downloading package punkt_tab to /root/nltk_data...\n",
            "[nltk_data]   Unzipping tokenizers/punkt_tab.zip.\n"
          ]
        },
        {
          "output_type": "execute_result",
          "data": {
            "text/plain": [
              "True"
            ]
          },
          "metadata": {},
          "execution_count": 15
        }
      ]
    },
    {
      "cell_type": "code",
      "source": [
        "from sklearn.feature_extraction.text import TfidfVectorizer\n",
        "\n",
        "# Compute TF-IDF\n",
        "vectorizer = TfidfVectorizer(stop_words='english', max_features=10)\n",
        "tfidf_matrix = vectorizer.fit_transform(sentences)\n",
        "feature_names = vectorizer.get_feature_names_out()\n",
        "\n",
        "# Display top words for each testimonial\n",
        "for idx, doc in enumerate(tfidf_matrix):\n",
        "    print(f\"Document {idx+1} Top Words:\")\n",
        "    for word_idx in doc.nonzero()[1]:\n",
        "        print(f\"  {feature_names[word_idx]}: {doc[0, word_idx]:.2f}\")\n"
      ],
      "metadata": {
        "colab": {
          "base_uri": "https://localhost:8080/"
        },
        "id": "NCRtIfj1TDsB",
        "outputId": "cf9f10da-7c1a-4042-f9e1-dc31848bdd22"
      },
      "id": "NCRtIfj1TDsB",
      "execution_count": null,
      "outputs": [
        {
          "output_type": "stream",
          "name": "stdout",
          "text": [
            "Document 1 Top Words:\n",
            "  product: 1.00\n",
            "Document 2 Top Words:\n",
            "  better: 1.00\n",
            "Document 3 Top Words:\n",
            "  product: 0.32\n",
            "  friendly: 0.64\n",
            "  design: 0.70\n",
            "Document 4 Top Words:\n",
            "  experience: 1.00\n",
            "Document 5 Top Words:\n",
            "  product: 1.00\n",
            "Document 6 Top Words:\n",
            "  features: 1.00\n",
            "Document 7 Top Words:\n",
            "  product: 0.44\n",
            "  friendly: 0.90\n",
            "Document 8 Top Words:\n",
            "  product: 0.28\n",
            "  friendly: 0.56\n",
            "  experience: 0.62\n",
            "  features: 0.48\n",
            "Document 9 Top Words:\n",
            "  product: 0.41\n",
            "  time: 0.91\n",
            "Document 10 Top Words:\n",
            "  wouldn: 0.71\n",
            "  recommend: 0.71\n",
            "Document 11 Top Words:\n",
            "  product: 0.41\n",
            "  promises: 0.91\n",
            "Document 12 Top Words:\n",
            "  product: 0.41\n",
            "  time: 0.91\n",
            "Document 13 Top Words:\n",
            "  product: 0.50\n",
            "  features: 0.86\n",
            "Document 14 Top Words:\n",
            "  product: 0.44\n",
            "  better: 0.90\n",
            "Document 15 Top Words:\n",
            "  product: 0.26\n",
            "  better: 0.52\n",
            "  wouldn: 0.58\n",
            "  recommend: 0.58\n",
            "Document 16 Top Words:\n",
            "  design: 1.00\n",
            "Document 17 Top Words:\n",
            "Document 18 Top Words:\n",
            "  product: 0.50\n",
            "  features: 0.86\n",
            "Document 19 Top Words:\n",
            "  product: 1.00\n",
            "Document 20 Top Words:\n",
            "  product: 0.33\n",
            "  features: 0.58\n",
            "  promises: 0.75\n",
            "Document 21 Top Words:\n",
            "Document 22 Top Words:\n",
            "  product: 1.00\n"
          ]
        }
      ]
    },
    {
      "cell_type": "code",
      "source": [
        "import matplotlib.pyplot as plt\n",
        "import numpy as np\n",
        "\n",
        "# Flatten the TF-IDF matrix to get scores for each word\n",
        "scores = tfidf_matrix.toarray()\n",
        "\n",
        "# Aggregate scores for each word across all documents\n",
        "word_scores = np.sum(scores, axis=0)\n",
        "\n",
        "# Create a dictionary of words and their scores\n",
        "word_dict = {feature_names[i]: word_scores[i] for i in range(len(feature_names))}\n",
        "\n",
        "# Sort the dictionary by scores\n",
        "sorted_words = dict(sorted(word_dict.items(), key=lambda x: x[1], reverse=True))\n",
        "\n",
        "# Extract words and their scores\n",
        "words, tfidf_scores = list(sorted_words.keys()), list(sorted_words.values())\n",
        "\n",
        "# Plot the bar graph\n",
        "plt.figure(figsize=(10, 6))\n",
        "plt.bar(words, tfidf_scores, color='skyblue')\n",
        "plt.title('TF-IDF Scores for Top Words', fontsize=16)\n",
        "plt.xlabel('Words', fontsize=14)\n",
        "plt.ylabel('TF-IDF Score', fontsize=14)\n",
        "plt.xticks(rotation=45)\n",
        "plt.show()\n"
      ],
      "metadata": {
        "colab": {
          "base_uri": "https://localhost:8080/",
          "height": 626
        },
        "id": "sWI1Dik7TdKz",
        "outputId": "19ab5ff6-beb2-41b9-bebf-0bbcbed9ec6b"
      },
      "id": "sWI1Dik7TdKz",
      "execution_count": null,
      "outputs": [
        {
          "output_type": "display_data",
          "data": {
            "text/plain": [
              "<Figure size 1000x600 with 1 Axes>"
            ],
            "image/png": "[encoded data removed]"
          },
          "metadata": {}
        }
      ]
    },
    {
      "cell_type": "code",
      "source": [
        "from wordcloud import WordCloud\n",
        "\n",
        "# Generate a word cloud\n",
        "wordcloud = WordCloud(width=800, height=400, background_color='white').generate_from_frequencies(word_dict)\n",
        "\n",
        "# Plot the word cloud\n",
        "plt.figure(figsize=(10, 6))\n",
        "plt.imshow(wordcloud, interpolation='bilinear')\n",
        "plt.axis('off')\n",
        "plt.title('Word Cloud of TF-IDF Keywords', fontsize=16)\n",
        "plt.show()\n"
      ],
      "metadata": {
        "colab": {
          "base_uri": "https://localhost:8080/",
          "height": 448
        },
        "id": "IBe70w5CTf1J",
        "outputId": "ccf7fa41-d536-412d-977e-f8b7d2e8db93"
      },
      "id": "IBe70w5CTf1J",
      "execution_count": null,
      "outputs": [
        {
          "output_type": "display_data",
          "data": {
            "text/plain": [
              "<Figure size 1000x600 with 1 Axes>"
            ],
            "image/png": "[encoded data removed]"
          },
          "metadata": {}
        }
      ]
    },
    {
      "cell_type": "code",
      "source": [
        "import matplotlib.pyplot as plt\n",
        "\n",
        "# Example sentiment distribution\n",
        "sentiment_labels = ['Positive', 'Neutral', 'Negative']\n",
        "percentages = [70, 20, 10]\n",
        "\n",
        "# Bar Chart\n",
        "plt.figure(figsize=(8, 5))\n",
        "plt.bar(sentiment_labels, percentages, color=['green', 'blue', 'red'])\n",
        "plt.title('Sentiment Distribution', fontsize=16)\n",
        "plt.xlabel('Sentiment Categories', fontsize=14)\n",
        "plt.ylabel('Percentage (%)', fontsize=14)\n",
        "plt.ylim(0, 100)\n",
        "plt.show()\n",
        "\n",
        "# Pie Chart\n",
        "plt.figure(figsize=(8, 5))\n",
        "plt.pie(percentages, labels=sentiment_labels, autopct='%1.1f%%', colors=['green', 'blue', 'red'], startangle=140)\n",
        "plt.title('Sentiment Distribution (Pie Chart)', fontsize=16)\n",
        "plt.axis('equal')  # Equal aspect ratio ensures that pie is drawn as a circle.\n",
        "plt.show()\n"
      ],
      "metadata": {
        "colab": {
          "base_uri": "https://localhost:8080/",
          "height": 929
        },
        "id": "sHlt0zCTUh0c",
        "outputId": "9cc51680-32f2-43ed-caaa-16ce67319071"
      },
      "id": "sHlt0zCTUh0c",
      "execution_count": null,
      "outputs": [
        {
          "output_type": "display_data",
          "data": {
            "text/plain": [
              "<Figure size 800x500 with 1 Axes>"
            ],
            "image/png": "[encoded data removed]"
          },
          "metadata": {}
        },
        {
          "output_type": "display_data",
          "data": {
            "text/plain": [
              "<Figure size 800x500 with 1 Axes>"
            ],
            "image/png": "[encoded data removed]"
          },
          "metadata": {}
        }
      ]
    },
    {
      "cell_type": "code",
      "source": [
        "data =[\n",
        "    {\n",
        "        \"review\": \"nice product\",\n",
        "        \"sentiment_score\": 0.006689789704978466,\n",
        "        \"sentiment\": \"negative\"\n",
        "    },\n",
        "    {\n",
        "        \"review\": \"can be better\",\n",
        "        \"sentiment_score\": 0.46363529562950134,\n",
        "        \"sentiment\": \"negative\"\n",
        "    },\n",
        "    {\n",
        "        \"review\": \"The product has revolutionized how we approach our daily operations. The attention to detail and user-friendly design are unparalleled. A must-have for anyone looking to optimize efficiency.\",\n",
        "        \"sentiment_score\": 0.9936714172363281,\n",
        "        \"sentiment\": \"positive\"\n",
        "    },\n",
        "    {\n",
        "        \"review\": \"While the core functionality is excellent, I was most impressed by the customer service. They went above and beyond to resolve an issue I faced. Great experience!\",\n",
        "        \"sentiment_score\": 0.9089820384979248,\n",
        "        \"sentiment\": \"positive\"\n",
        "    },\n",
        "    {\n",
        "        \"review\": \"The integration capabilities of this product are superb. It seamlessly connects with our existing tools, saving us hours each week. Well done\",\n",
        "        \"sentiment_score\": 0.08167194575071335,\n",
        "        \"sentiment\": \"negative\"\n",
        "    },\n",
        "    {\n",
        "        \"review\": \"The analytics features provided insights we never knew we needed. This has helped our decision-making process immensely. Worth every penny.\",\n",
        "        \"sentiment_score\": 0.0014092877972871065,\n",
        "        \"sentiment\": \"negative\"\n",
        "    },\n",
        "    {\n",
        "        \"review\": \"\\\"An excellent product with a focus on sustainability. Knowing that our purchase supports eco-friendly practices is a big plus for our company.\\\"\",\n",
        "        \"sentiment_score\": 0.9103196263313293,\n",
        "        \"sentiment\": \"positive\"\n",
        "    },\n",
        "    {\n",
        "        \"review\": \"The product did not live up to the hype. Several features are either broken or not user-friendly. Disappointing experience overall.\",\n",
        "        \"sentiment_score\": 0.9965205192565918,\n",
        "        \"sentiment\": \"positive\"\n",
        "    },\n",
        "    {\n",
        "        \"review\": \"Extremely slow and laggy. We spent more time troubleshooting than actually using the product. Not worth the investment.\",\n",
        "        \"sentiment_score\": 0.06135726347565651,\n",
        "        \"sentiment\": \"negative\"\n",
        "    },\n",
        "    {\n",
        "        \"review\": \"The lack of proper documentation made setup a nightmare. Had to hire an external consultant just to get it running. Wouldn’t recommend\",\n",
        "        \"sentiment_score\": 0.024835867807269096,\n",
        "        \"sentiment\": \"negative\"\n",
        "    },\n",
        "    {\n",
        "        \"review\": \"The product promises a lot but delivers very little. Customer support was unresponsive when we tried to get help.\",\n",
        "        \"sentiment_score\": 0.8208798170089722,\n",
        "        \"sentiment\": \"positive\"\n",
        "    },\n",
        "    {\n",
        "        \"review\": \"We encountered constant bugs that made the product unusable. A complete waste of time and resources\",\n",
        "        \"sentiment_score\": 0.8679426908493042,\n",
        "        \"sentiment\": \"positive\"\n",
        "    },\n",
        "    {\n",
        "        \"review\": \"The product does what it claims, but nothing more. It’s functional but lacks any standout features.\",\n",
        "        \"sentiment_score\": 0.008776327595114708,\n",
        "        \"sentiment\": \"negative\"\n",
        "    },\n",
        "    {\n",
        "        \"review\": \"Decent product for the price, but there are better alternatives in the market. It’s a middle-of-the-road option.\",\n",
        "        \"sentiment_score\": 0.0769377127289772,\n",
        "        \"sentiment\": \"negative\"\n",
        "    },\n",
        "    {\n",
        "        \"review\": \"The product is okay, but I wouldn’t recommend it for larger teams. It seems better suited for smaller setups\",\n",
        "        \"sentiment_score\": 0.8769729733467102,\n",
        "        \"sentiment\": \"positive\"\n",
        "    },\n",
        "    {\n",
        "        \"review\": \"It worked as advertised, but the design feels outdated. It’s functional but not visually appealing\",\n",
        "        \"sentiment_score\": 0.01866266131401062,\n",
        "        \"sentiment\": \"negative\"\n",
        "    },\n",
        "    {\n",
        "        \"review\": \"No major complaints, but nothing to rave about either. It gets the job done.\",\n",
        "        \"sentiment_score\": 0.10434293746948242,\n",
        "        \"sentiment\": \"negative\"\n",
        "    },\n",
        "    {\n",
        "        \"review\": \"This product has been a game-changer for our team! The seamless workflow and robust features have significantly improved our efficiency. Highly recommended.\",\n",
        "        \"sentiment_score\": 0.004914595279842615,\n",
        "        \"sentiment\": \"negative\"\n",
        "    },\n",
        "    {\n",
        "        \"review\": \"Unfortunately, this product didn’t meet our expectations. The frequent crashes and lack of updates made it difficult to rely on for critical tasks.\",\n",
        "        \"sentiment_score\": 0.9977827668190002,\n",
        "        \"sentiment\": \"positive\"\n",
        "    },\n",
        "    {\n",
        "        \"review\": \"It’s an average product. While it does what it promises, it lacks innovation or features that would make it stand out in a competitive market.\\n\\n\",\n",
        "        \"sentiment_score\": 0.9856465458869934,\n",
        "        \"sentiment\": \"positive\"\n",
        "    },\n",
        "    {\n",
        "        \"review\": \"GOOD\",\n",
        "        \"sentiment_score\": 0.45997267961502075,\n",
        "        \"sentiment\": \"negative\"\n",
        "    },\n",
        "    {\n",
        "        \"review\": \"Amazing product\",\n",
        "        \"sentiment_score\": 0.640293300151825,\n",
        "        \"sentiment\": \"positive\"\n",
        "    }\n",
        "]\n"
      ],
      "metadata": {
        "id": "X7Fe7QeICzoz"
      },
      "id": "X7Fe7QeICzoz",
      "execution_count": null,
      "outputs": []
    },
    {
      "cell_type": "code",
      "source": [
        "# Create a DataFrame from the data\n",
        "df = pd.DataFrame(data)\n",
        "\n",
        "# 1. Overall Sentiment Distribution\n",
        "sentiment_count = df['sentiment'].value_counts()\n",
        "print(\"Sentiment Distribution:\\n\", sentiment_count)\n",
        "\n",
        "# Plot Sentiment Distribution\n",
        "plt.figure(figsize=(6, 4))\n",
        "sentiment_count.plot(kind='bar', color=['red', 'green'])\n",
        "plt.title('Sentiment Distribution (Positive vs Negative)')\n",
        "plt.ylabel('Number of Reviews')\n",
        "plt.xlabel('Sentiment')\n",
        "plt.xticks(rotation=0)\n",
        "plt.show()\n",
        "\n",
        "# 2. Top Positive and Negative Reviews (highest and lowest sentiment scores)\n",
        "top_positive_review = df.loc[df['sentiment_score'].idxmax()]\n",
        "top_negative_review = df.loc[df['sentiment_score'].idxmin()]\n",
        "\n",
        "print(\"\\nTop Positive Review:\")\n",
        "print(f\"Review: {top_positive_review['review']}\")\n",
        "print(f\"Sentiment Score: {top_positive_review['sentiment_score']}\")\n",
        "\n",
        "print(\"\\nTop Negative Review:\")\n",
        "print(f\"Review: {top_negative_review['review']}\")\n",
        "print(f\"Sentiment Score: {top_negative_review['sentiment_score']}\")\n",
        "\n",
        "# 3. Average Sentiment Score\n",
        "average_sentiment_score = df['sentiment_score'].mean()\n",
        "print(\"\\nAverage Sentiment Score:\", average_sentiment_score)\n",
        "\n",
        "# 4. Count of Positive vs Negative Reviews\n",
        "positive_reviews = df[df['sentiment'] == 'positive']\n",
        "negative_reviews = df[df['sentiment'] == 'negative']\n",
        "print(\"\\nNumber of Positive Reviews:\", len(positive_reviews))\n",
        "print(\"Number of Negative Reviews:\", len(negative_reviews))\n",
        "\n",
        "# 5. Sentiment Over Time (if you have timestamps, or just by review index)\n",
        "df['review_index'] = range(1, len(df) + 1)\n",
        "plt.figure(figsize=(10, 6))\n",
        "plt.plot(df['review_index'], df['sentiment_score'], marker='o', linestyle='-', color='b')\n",
        "plt.title('Sentiment Scores Over Reviews')\n",
        "plt.xlabel('Review Number')\n",
        "plt.ylabel('Sentiment Score')\n",
        "plt.grid(True)\n",
        "plt.show()\n",
        "\n",
        "# Bonus: Keyword extraction from reviews (for business insights)\n",
        "from sklearn.feature_extraction.text import CountVectorizer\n",
        "\n",
        "# Convert reviews into a list of strings\n",
        "reviews = df['review'].tolist()\n",
        "\n",
        "# Using CountVectorizer to get word frequencies\n",
        "vectorizer = CountVectorizer(stop_words='english', max_features=10)\n",
        "X = vectorizer.fit_transform(reviews)\n",
        "word_counts = pd.DataFrame(X.toarray(), columns=vectorizer.get_feature_names_out())\n",
        "\n",
        "# Sum up word counts across all reviews\n",
        "word_frequencies = word_counts.sum(axis=0)\n",
        "top_keywords = word_frequencies.sort_values(ascending=False).head(10)\n",
        "\n",
        "print(\"\\nTop Keywords Mentioned in Reviews:\")\n",
        "print(top_keywords)\n"
      ],
      "metadata": {
        "colab": {
          "base_uri": "https://localhost:8080/",
          "height": 1000
        },
        "id": "gS1suihrCmVf",
        "outputId": "edb3267b-5154-4e31-dd13-901fb00b21d7"
      },
      "id": "gS1suihrCmVf",
      "execution_count": null,
      "outputs": [
        {
          "output_type": "stream",
          "name": "stdout",
          "text": [
            "Sentiment Distribution:\n",
            " sentiment\n",
            "negative    12\n",
            "positive    10\n",
            "Name: count, dtype: int64\n"
          ]
        },
        {
          "output_type": "display_data",
          "data": {
            "text/plain": [
              "<Figure size 600x400 with 1 Axes>"
            ],
            "image/png": "[encoded data removed]"
          },
          "metadata": {}
        },
        {
          "output_type": "stream",
          "name": "stdout",
          "text": [
            "\n",
            "Top Positive Review:\n",
            "Review: Unfortunately, this product didn’t meet our expectations. The frequent crashes and lack of updates made it difficult to rely on for critical tasks.\n",
            "Sentiment Score: 0.9977827668190002\n",
            "\n",
            "Top Negative Review:\n",
            "Review: The analytics features provided insights we never knew we needed. This has helped our decision-making process immensely. Worth every penny.\n",
            "Sentiment Score: 0.0014092877972871065\n",
            "\n",
            "Average Sentiment Score: 0.4687371845251288\n",
            "\n",
            "Number of Positive Reviews: 10\n",
            "Number of Negative Reviews: 12\n"
          ]
        },
        {
          "output_type": "display_data",
          "data": {
            "text/plain": [
              "<Figure size 1000x600 with 1 Axes>"
            ],
            "image/png": "[encoded data removed]"
          },
          "metadata": {}
        },
        {
          "output_type": "stream",
          "name": "stdout",
          "text": [
            "\n",
            "Top Keywords Mentioned in Reviews:\n",
            "product       15\n",
            "features       5\n",
            "better         3\n",
            "friendly       3\n",
            "design         2\n",
            "experience     2\n",
            "promises       2\n",
            "recommend      2\n",
            "time           2\n",
            "wouldn         2\n",
            "dtype: int64\n"
          ]
        }
      ]
    }
  ],
  "metadata": {
    "accelerator": "GPU",
    "colab": {
      "gpuType": "T4",
      "provenance": [],
      "collapsed_sections": [
        "2198dec3",
        "ce54e946",
        "b81e77b9",
        "388ee0c3",
        "606675af",
        "f196d485",
        "b2afdf79",
        "915956b7",
        "chWweS_NFHtb"
      ]
    },
    "kernelspec": {
      "display_name": "Python 3",
      "name": "python3"
    },
    "language_info": {
      "codemirror_mode": {
        "name": "ipython",
        "version": 3
      },
      "file_extension": ".py",
      "mimetype": "text/x-python",
      "name": "python",
      "nbconvert_exporter": "python",
      "pygments_lexer": "ipython3",
      "version": "3.9.12"
    }
  },
  "nbformat": 4,
  "nbformat_minor": 5
}